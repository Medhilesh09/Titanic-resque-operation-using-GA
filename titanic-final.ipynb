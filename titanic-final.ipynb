{
 "cells": [
  {
   "cell_type": "code",
   "execution_count": 1,
   "id": "6dc86e39",
   "metadata": {
    "_cell_guid": "b1076dfc-b9ad-4769-8c92-a6c4dae69d19",
    "_uuid": "8f2839f25d086af736a60e9eeb907d3b93b6e0e5",
    "execution": {
     "iopub.execute_input": "2022-04-03T08:54:18.064955Z",
     "iopub.status.busy": "2022-04-03T08:54:18.059790Z",
     "iopub.status.idle": "2022-04-03T08:54:18.072244Z",
     "shell.execute_reply": "2022-04-03T08:54:18.072782Z",
     "shell.execute_reply.started": "2022-04-03T08:53:18.448878Z"
    },
    "papermill": {
     "duration": 0.082762,
     "end_time": "2022-04-03T08:54:18.073098",
     "exception": false,
     "start_time": "2022-04-03T08:54:17.990336",
     "status": "completed"
    },
    "tags": []
   },
   "outputs": [
    {
     "name": "stdout",
     "output_type": "stream",
     "text": [
      "/kaggle/input/titanic/train.csv\n",
      "/kaggle/input/titanic/test.csv\n",
      "/kaggle/input/titanic/gender_submission.csv\n"
     ]
    }
   ],
   "source": [
    "# This Python 3 environment comes with many helpful analytics libraries installed\n",
    "# It is defined by the kaggle/python Docker image: https://github.com/kaggle/docker-python\n",
    "# For example, here's several helpful packages to load\n",
    "\n",
    "import numpy as np # linear algebra\n",
    "import pandas as pd # data processing, CSV file I/O (e.g. pd.read_csv)\n",
    "\n",
    "# Input data files are available in the read-only \"../input/\" directory\n",
    "# For example, running this (by clicking run or pressing Shift+Enter) will list all files under the input directory\n",
    "\n",
    "import os\n",
    "for dirname, _, filenames in os.walk('/kaggle/input'):\n",
    "    for filename in filenames:\n",
    "        print(os.path.join(dirname, filename))\n",
    "\n",
    "# You can write up to 20GB to the current directory (/kaggle/working/) that gets preserved as output when you create a version using \"Save & Run All\" \n",
    "# You can also write temporary files to /kaggle/temp/, but they won't be saved outside of the current session"
   ]
  },
  {
   "cell_type": "code",
   "execution_count": 2,
   "id": "c7b8f262",
   "metadata": {
    "execution": {
     "iopub.execute_input": "2022-04-03T08:54:18.184941Z",
     "iopub.status.busy": "2022-04-03T08:54:18.184340Z",
     "iopub.status.idle": "2022-04-03T08:54:18.218040Z",
     "shell.execute_reply": "2022-04-03T08:54:18.218536Z",
     "shell.execute_reply.started": "2022-04-03T08:53:18.482617Z"
    },
    "papermill": {
     "duration": 0.090004,
     "end_time": "2022-04-03T08:54:18.218710",
     "exception": false,
     "start_time": "2022-04-03T08:54:18.128706",
     "status": "completed"
    },
    "tags": []
   },
   "outputs": [
    {
     "data": {
      "text/html": [
       "<div>\n",
       "<style scoped>\n",
       "    .dataframe tbody tr th:only-of-type {\n",
       "        vertical-align: middle;\n",
       "    }\n",
       "\n",
       "    .dataframe tbody tr th {\n",
       "        vertical-align: top;\n",
       "    }\n",
       "\n",
       "    .dataframe thead th {\n",
       "        text-align: right;\n",
       "    }\n",
       "</style>\n",
       "<table border=\"1\" class=\"dataframe\">\n",
       "  <thead>\n",
       "    <tr style=\"text-align: right;\">\n",
       "      <th></th>\n",
       "      <th>PassengerId</th>\n",
       "      <th>Survived</th>\n",
       "      <th>Pclass</th>\n",
       "      <th>Name</th>\n",
       "      <th>Sex</th>\n",
       "      <th>Age</th>\n",
       "      <th>SibSp</th>\n",
       "      <th>Parch</th>\n",
       "      <th>Ticket</th>\n",
       "      <th>Fare</th>\n",
       "      <th>Cabin</th>\n",
       "      <th>Embarked</th>\n",
       "    </tr>\n",
       "  </thead>\n",
       "  <tbody>\n",
       "    <tr>\n",
       "      <th>0</th>\n",
       "      <td>1</td>\n",
       "      <td>0</td>\n",
       "      <td>3</td>\n",
       "      <td>Braund, Mr. Owen Harris</td>\n",
       "      <td>male</td>\n",
       "      <td>22.0</td>\n",
       "      <td>1</td>\n",
       "      <td>0</td>\n",
       "      <td>A/5 21171</td>\n",
       "      <td>7.2500</td>\n",
       "      <td>NaN</td>\n",
       "      <td>S</td>\n",
       "    </tr>\n",
       "    <tr>\n",
       "      <th>1</th>\n",
       "      <td>2</td>\n",
       "      <td>1</td>\n",
       "      <td>1</td>\n",
       "      <td>Cumings, Mrs. John Bradley (Florence Briggs Th...</td>\n",
       "      <td>female</td>\n",
       "      <td>38.0</td>\n",
       "      <td>1</td>\n",
       "      <td>0</td>\n",
       "      <td>PC 17599</td>\n",
       "      <td>71.2833</td>\n",
       "      <td>C85</td>\n",
       "      <td>C</td>\n",
       "    </tr>\n",
       "    <tr>\n",
       "      <th>2</th>\n",
       "      <td>3</td>\n",
       "      <td>1</td>\n",
       "      <td>3</td>\n",
       "      <td>Heikkinen, Miss. Laina</td>\n",
       "      <td>female</td>\n",
       "      <td>26.0</td>\n",
       "      <td>0</td>\n",
       "      <td>0</td>\n",
       "      <td>STON/O2. 3101282</td>\n",
       "      <td>7.9250</td>\n",
       "      <td>NaN</td>\n",
       "      <td>S</td>\n",
       "    </tr>\n",
       "  </tbody>\n",
       "</table>\n",
       "</div>"
      ],
      "text/plain": [
       "   PassengerId  Survived  Pclass  \\\n",
       "0            1         0       3   \n",
       "1            2         1       1   \n",
       "2            3         1       3   \n",
       "\n",
       "                                                Name     Sex   Age  SibSp  \\\n",
       "0                            Braund, Mr. Owen Harris    male  22.0      1   \n",
       "1  Cumings, Mrs. John Bradley (Florence Briggs Th...  female  38.0      1   \n",
       "2                             Heikkinen, Miss. Laina  female  26.0      0   \n",
       "\n",
       "   Parch            Ticket     Fare Cabin Embarked  \n",
       "0      0         A/5 21171   7.2500   NaN        S  \n",
       "1      0          PC 17599  71.2833   C85        C  \n",
       "2      0  STON/O2. 3101282   7.9250   NaN        S  "
      ]
     },
     "execution_count": 2,
     "metadata": {},
     "output_type": "execute_result"
    }
   ],
   "source": [
    "train_df=pd.read_csv('/kaggle/input/titanic/train.csv')\n",
    "train_df.head(3)"
   ]
  },
  {
   "cell_type": "code",
   "execution_count": 3,
   "id": "40ccb6e6",
   "metadata": {
    "execution": {
     "iopub.execute_input": "2022-04-03T08:54:18.326959Z",
     "iopub.status.busy": "2022-04-03T08:54:18.326049Z",
     "iopub.status.idle": "2022-04-03T08:54:18.331024Z",
     "shell.execute_reply": "2022-04-03T08:54:18.331424Z",
     "shell.execute_reply.started": "2022-04-03T08:53:18.525822Z"
    },
    "papermill": {
     "duration": 0.061655,
     "end_time": "2022-04-03T08:54:18.331611",
     "exception": false,
     "start_time": "2022-04-03T08:54:18.269956",
     "status": "completed"
    },
    "tags": []
   },
   "outputs": [
    {
     "data": {
      "text/plain": [
       "(891, 12)"
      ]
     },
     "execution_count": 3,
     "metadata": {},
     "output_type": "execute_result"
    }
   ],
   "source": [
    "train_df.shape"
   ]
  },
  {
   "cell_type": "code",
   "execution_count": 4,
   "id": "86acd323",
   "metadata": {
    "execution": {
     "iopub.execute_input": "2022-04-03T08:54:18.438565Z",
     "iopub.status.busy": "2022-04-03T08:54:18.437905Z",
     "iopub.status.idle": "2022-04-03T08:54:18.456754Z",
     "shell.execute_reply": "2022-04-03T08:54:18.457146Z",
     "shell.execute_reply.started": "2022-04-03T08:53:18.536372Z"
    },
    "papermill": {
     "duration": 0.074353,
     "end_time": "2022-04-03T08:54:18.457323",
     "exception": false,
     "start_time": "2022-04-03T08:54:18.382970",
     "status": "completed"
    },
    "tags": []
   },
   "outputs": [
    {
     "data": {
      "text/html": [
       "<div>\n",
       "<style scoped>\n",
       "    .dataframe tbody tr th:only-of-type {\n",
       "        vertical-align: middle;\n",
       "    }\n",
       "\n",
       "    .dataframe tbody tr th {\n",
       "        vertical-align: top;\n",
       "    }\n",
       "\n",
       "    .dataframe thead th {\n",
       "        text-align: right;\n",
       "    }\n",
       "</style>\n",
       "<table border=\"1\" class=\"dataframe\">\n",
       "  <thead>\n",
       "    <tr style=\"text-align: right;\">\n",
       "      <th></th>\n",
       "      <th>PassengerId</th>\n",
       "      <th>Pclass</th>\n",
       "      <th>Name</th>\n",
       "      <th>Sex</th>\n",
       "      <th>Age</th>\n",
       "      <th>SibSp</th>\n",
       "      <th>Parch</th>\n",
       "      <th>Ticket</th>\n",
       "      <th>Fare</th>\n",
       "      <th>Cabin</th>\n",
       "      <th>Embarked</th>\n",
       "    </tr>\n",
       "  </thead>\n",
       "  <tbody>\n",
       "    <tr>\n",
       "      <th>0</th>\n",
       "      <td>892</td>\n",
       "      <td>3</td>\n",
       "      <td>Kelly, Mr. James</td>\n",
       "      <td>male</td>\n",
       "      <td>34.5</td>\n",
       "      <td>0</td>\n",
       "      <td>0</td>\n",
       "      <td>330911</td>\n",
       "      <td>7.8292</td>\n",
       "      <td>NaN</td>\n",
       "      <td>Q</td>\n",
       "    </tr>\n",
       "    <tr>\n",
       "      <th>1</th>\n",
       "      <td>893</td>\n",
       "      <td>3</td>\n",
       "      <td>Wilkes, Mrs. James (Ellen Needs)</td>\n",
       "      <td>female</td>\n",
       "      <td>47.0</td>\n",
       "      <td>1</td>\n",
       "      <td>0</td>\n",
       "      <td>363272</td>\n",
       "      <td>7.0000</td>\n",
       "      <td>NaN</td>\n",
       "      <td>S</td>\n",
       "    </tr>\n",
       "    <tr>\n",
       "      <th>2</th>\n",
       "      <td>894</td>\n",
       "      <td>2</td>\n",
       "      <td>Myles, Mr. Thomas Francis</td>\n",
       "      <td>male</td>\n",
       "      <td>62.0</td>\n",
       "      <td>0</td>\n",
       "      <td>0</td>\n",
       "      <td>240276</td>\n",
       "      <td>9.6875</td>\n",
       "      <td>NaN</td>\n",
       "      <td>Q</td>\n",
       "    </tr>\n",
       "  </tbody>\n",
       "</table>\n",
       "</div>"
      ],
      "text/plain": [
       "   PassengerId  Pclass                              Name     Sex   Age  SibSp  \\\n",
       "0          892       3                  Kelly, Mr. James    male  34.5      0   \n",
       "1          893       3  Wilkes, Mrs. James (Ellen Needs)  female  47.0      1   \n",
       "2          894       2         Myles, Mr. Thomas Francis    male  62.0      0   \n",
       "\n",
       "   Parch  Ticket    Fare Cabin Embarked  \n",
       "0      0  330911  7.8292   NaN        Q  \n",
       "1      0  363272  7.0000   NaN        S  \n",
       "2      0  240276  9.6875   NaN        Q  "
      ]
     },
     "execution_count": 4,
     "metadata": {},
     "output_type": "execute_result"
    }
   ],
   "source": [
    "test_df=pd.read_csv('/kaggle/input/titanic/test.csv')\n",
    "test_df.head(3)"
   ]
  },
  {
   "cell_type": "code",
   "execution_count": 5,
   "id": "c10f580a",
   "metadata": {
    "execution": {
     "iopub.execute_input": "2022-04-03T08:54:18.569489Z",
     "iopub.status.busy": "2022-04-03T08:54:18.568658Z",
     "iopub.status.idle": "2022-04-03T08:54:18.572311Z",
     "shell.execute_reply": "2022-04-03T08:54:18.572757Z",
     "shell.execute_reply.started": "2022-04-03T08:53:18.572788Z"
    },
    "papermill": {
     "duration": 0.063501,
     "end_time": "2022-04-03T08:54:18.572928",
     "exception": false,
     "start_time": "2022-04-03T08:54:18.509427",
     "status": "completed"
    },
    "tags": []
   },
   "outputs": [
    {
     "data": {
      "text/plain": [
       "(418, 11)"
      ]
     },
     "execution_count": 5,
     "metadata": {},
     "output_type": "execute_result"
    }
   ],
   "source": [
    "test_df.shape"
   ]
  },
  {
   "cell_type": "markdown",
   "id": "8bc15d88",
   "metadata": {
    "papermill": {
     "duration": 0.052202,
     "end_time": "2022-04-03T08:54:18.678723",
     "exception": false,
     "start_time": "2022-04-03T08:54:18.626521",
     "status": "completed"
    },
    "tags": []
   },
   "source": []
  },
  {
   "cell_type": "code",
   "execution_count": 6,
   "id": "35fa5b10",
   "metadata": {
    "execution": {
     "iopub.execute_input": "2022-04-03T08:54:18.788188Z",
     "iopub.status.busy": "2022-04-03T08:54:18.787424Z",
     "iopub.status.idle": "2022-04-03T08:54:19.920653Z",
     "shell.execute_reply": "2022-04-03T08:54:19.921179Z",
     "shell.execute_reply.started": "2022-04-03T08:53:18.580551Z"
    },
    "papermill": {
     "duration": 1.190131,
     "end_time": "2022-04-03T08:54:19.921353",
     "exception": false,
     "start_time": "2022-04-03T08:54:18.731222",
     "status": "completed"
    },
    "tags": []
   },
   "outputs": [],
   "source": [
    "from sklearn.naive_bayes import GaussianNB\n",
    "from sklearn.model_selection import train_test_split"
   ]
  },
  {
   "cell_type": "code",
   "execution_count": 7,
   "id": "f3efb8d4",
   "metadata": {
    "execution": {
     "iopub.execute_input": "2022-04-03T08:54:20.034504Z",
     "iopub.status.busy": "2022-04-03T08:54:20.031319Z",
     "iopub.status.idle": "2022-04-03T08:54:20.040847Z",
     "shell.execute_reply": "2022-04-03T08:54:20.040214Z",
     "shell.execute_reply.started": "2022-04-03T08:53:19.822903Z"
    },
    "papermill": {
     "duration": 0.066054,
     "end_time": "2022-04-03T08:54:20.040996",
     "exception": false,
     "start_time": "2022-04-03T08:54:19.974942",
     "status": "completed"
    },
    "tags": []
   },
   "outputs": [
    {
     "data": {
      "text/plain": [
       "PassengerId      0\n",
       "Survived         0\n",
       "Pclass           0\n",
       "Name             0\n",
       "Sex              0\n",
       "Age            177\n",
       "SibSp            0\n",
       "Parch            0\n",
       "Ticket           0\n",
       "Fare             0\n",
       "Cabin          687\n",
       "Embarked         2\n",
       "dtype: int64"
      ]
     },
     "execution_count": 7,
     "metadata": {},
     "output_type": "execute_result"
    }
   ],
   "source": [
    "train_df.isna().sum()"
   ]
  },
  {
   "cell_type": "code",
   "execution_count": 8,
   "id": "b54f7d7e",
   "metadata": {
    "execution": {
     "iopub.execute_input": "2022-04-03T08:54:20.161194Z",
     "iopub.status.busy": "2022-04-03T08:54:20.160402Z",
     "iopub.status.idle": "2022-04-03T08:54:20.163143Z",
     "shell.execute_reply": "2022-04-03T08:54:20.163570Z",
     "shell.execute_reply.started": "2022-04-03T08:53:19.840256Z"
    },
    "papermill": {
     "duration": 0.067261,
     "end_time": "2022-04-03T08:54:20.163742",
     "exception": false,
     "start_time": "2022-04-03T08:54:20.096481",
     "status": "completed"
    },
    "tags": []
   },
   "outputs": [],
   "source": [
    "train_df.Age=train_df.Age.fillna(train_df.Age.mean())"
   ]
  },
  {
   "cell_type": "code",
   "execution_count": 9,
   "id": "ca0c380f",
   "metadata": {
    "execution": {
     "iopub.execute_input": "2022-04-03T08:54:20.271954Z",
     "iopub.status.busy": "2022-04-03T08:54:20.271299Z",
     "iopub.status.idle": "2022-04-03T08:54:20.275571Z",
     "shell.execute_reply": "2022-04-03T08:54:20.276015Z",
     "shell.execute_reply.started": "2022-04-03T08:53:19.858020Z"
    },
    "papermill": {
     "duration": 0.05984,
     "end_time": "2022-04-03T08:54:20.276180",
     "exception": false,
     "start_time": "2022-04-03T08:54:20.216340",
     "status": "completed"
    },
    "tags": []
   },
   "outputs": [
    {
     "data": {
      "text/plain": [
       "Index(['PassengerId', 'Survived', 'Pclass', 'Name', 'Sex', 'Age', 'SibSp',\n",
       "       'Parch', 'Ticket', 'Fare', 'Cabin', 'Embarked'],\n",
       "      dtype='object')"
      ]
     },
     "execution_count": 9,
     "metadata": {},
     "output_type": "execute_result"
    }
   ],
   "source": [
    "train_df.columns"
   ]
  },
  {
   "cell_type": "code",
   "execution_count": 10,
   "id": "9d7aa07c",
   "metadata": {
    "execution": {
     "iopub.execute_input": "2022-04-03T08:54:20.395436Z",
     "iopub.status.busy": "2022-04-03T08:54:20.390182Z",
     "iopub.status.idle": "2022-04-03T08:54:20.399168Z",
     "shell.execute_reply": "2022-04-03T08:54:20.399668Z",
     "shell.execute_reply.started": "2022-04-03T08:53:19.871765Z"
    },
    "papermill": {
     "duration": 0.068253,
     "end_time": "2022-04-03T08:54:20.399847",
     "exception": false,
     "start_time": "2022-04-03T08:54:20.331594",
     "status": "completed"
    },
    "tags": []
   },
   "outputs": [],
   "source": [
    "train_df.drop(['Name','SibSp','Parch','Ticket','Cabin','Embarked'],axis=1,inplace=True)"
   ]
  },
  {
   "cell_type": "code",
   "execution_count": 11,
   "id": "d722413c",
   "metadata": {
    "execution": {
     "iopub.execute_input": "2022-04-03T08:54:20.509407Z",
     "iopub.status.busy": "2022-04-03T08:54:20.508813Z",
     "iopub.status.idle": "2022-04-03T08:54:20.519065Z",
     "shell.execute_reply": "2022-04-03T08:54:20.518536Z",
     "shell.execute_reply.started": "2022-04-03T08:53:19.893534Z"
    },
    "papermill": {
     "duration": 0.065816,
     "end_time": "2022-04-03T08:54:20.519212",
     "exception": false,
     "start_time": "2022-04-03T08:54:20.453396",
     "status": "completed"
    },
    "tags": []
   },
   "outputs": [
    {
     "data": {
      "text/html": [
       "<div>\n",
       "<style scoped>\n",
       "    .dataframe tbody tr th:only-of-type {\n",
       "        vertical-align: middle;\n",
       "    }\n",
       "\n",
       "    .dataframe tbody tr th {\n",
       "        vertical-align: top;\n",
       "    }\n",
       "\n",
       "    .dataframe thead th {\n",
       "        text-align: right;\n",
       "    }\n",
       "</style>\n",
       "<table border=\"1\" class=\"dataframe\">\n",
       "  <thead>\n",
       "    <tr style=\"text-align: right;\">\n",
       "      <th></th>\n",
       "      <th>PassengerId</th>\n",
       "      <th>Survived</th>\n",
       "      <th>Pclass</th>\n",
       "      <th>Sex</th>\n",
       "      <th>Age</th>\n",
       "      <th>Fare</th>\n",
       "    </tr>\n",
       "  </thead>\n",
       "  <tbody>\n",
       "    <tr>\n",
       "      <th>0</th>\n",
       "      <td>1</td>\n",
       "      <td>0</td>\n",
       "      <td>3</td>\n",
       "      <td>male</td>\n",
       "      <td>22.0</td>\n",
       "      <td>7.2500</td>\n",
       "    </tr>\n",
       "    <tr>\n",
       "      <th>1</th>\n",
       "      <td>2</td>\n",
       "      <td>1</td>\n",
       "      <td>1</td>\n",
       "      <td>female</td>\n",
       "      <td>38.0</td>\n",
       "      <td>71.2833</td>\n",
       "    </tr>\n",
       "    <tr>\n",
       "      <th>2</th>\n",
       "      <td>3</td>\n",
       "      <td>1</td>\n",
       "      <td>3</td>\n",
       "      <td>female</td>\n",
       "      <td>26.0</td>\n",
       "      <td>7.9250</td>\n",
       "    </tr>\n",
       "  </tbody>\n",
       "</table>\n",
       "</div>"
      ],
      "text/plain": [
       "   PassengerId  Survived  Pclass     Sex   Age     Fare\n",
       "0            1         0       3    male  22.0   7.2500\n",
       "1            2         1       1  female  38.0  71.2833\n",
       "2            3         1       3  female  26.0   7.9250"
      ]
     },
     "execution_count": 11,
     "metadata": {},
     "output_type": "execute_result"
    }
   ],
   "source": [
    "train_df.head(3)"
   ]
  },
  {
   "cell_type": "code",
   "execution_count": 12,
   "id": "07dff25d",
   "metadata": {
    "execution": {
     "iopub.execute_input": "2022-04-03T08:54:20.632717Z",
     "iopub.status.busy": "2022-04-03T08:54:20.630300Z",
     "iopub.status.idle": "2022-04-03T08:54:20.637102Z",
     "shell.execute_reply": "2022-04-03T08:54:20.637614Z",
     "shell.execute_reply.started": "2022-04-03T08:53:19.913180Z"
    },
    "papermill": {
     "duration": 0.065469,
     "end_time": "2022-04-03T08:54:20.637784",
     "exception": false,
     "start_time": "2022-04-03T08:54:20.572315",
     "status": "completed"
    },
    "tags": []
   },
   "outputs": [],
   "source": [
    "dummies=pd.get_dummies(train_df.Sex,)"
   ]
  },
  {
   "cell_type": "code",
   "execution_count": 13,
   "id": "7eac0c9f",
   "metadata": {
    "execution": {
     "iopub.execute_input": "2022-04-03T08:54:20.747969Z",
     "iopub.status.busy": "2022-04-03T08:54:20.747014Z",
     "iopub.status.idle": "2022-04-03T08:54:20.756731Z",
     "shell.execute_reply": "2022-04-03T08:54:20.757225Z",
     "shell.execute_reply.started": "2022-04-03T08:53:19.924390Z"
    },
    "papermill": {
     "duration": 0.066477,
     "end_time": "2022-04-03T08:54:20.757389",
     "exception": false,
     "start_time": "2022-04-03T08:54:20.690912",
     "status": "completed"
    },
    "tags": []
   },
   "outputs": [
    {
     "data": {
      "text/html": [
       "<div>\n",
       "<style scoped>\n",
       "    .dataframe tbody tr th:only-of-type {\n",
       "        vertical-align: middle;\n",
       "    }\n",
       "\n",
       "    .dataframe tbody tr th {\n",
       "        vertical-align: top;\n",
       "    }\n",
       "\n",
       "    .dataframe thead th {\n",
       "        text-align: right;\n",
       "    }\n",
       "</style>\n",
       "<table border=\"1\" class=\"dataframe\">\n",
       "  <thead>\n",
       "    <tr style=\"text-align: right;\">\n",
       "      <th></th>\n",
       "      <th>female</th>\n",
       "      <th>male</th>\n",
       "    </tr>\n",
       "  </thead>\n",
       "  <tbody>\n",
       "    <tr>\n",
       "      <th>0</th>\n",
       "      <td>0</td>\n",
       "      <td>1</td>\n",
       "    </tr>\n",
       "    <tr>\n",
       "      <th>1</th>\n",
       "      <td>1</td>\n",
       "      <td>0</td>\n",
       "    </tr>\n",
       "    <tr>\n",
       "      <th>2</th>\n",
       "      <td>1</td>\n",
       "      <td>0</td>\n",
       "    </tr>\n",
       "    <tr>\n",
       "      <th>3</th>\n",
       "      <td>1</td>\n",
       "      <td>0</td>\n",
       "    </tr>\n",
       "    <tr>\n",
       "      <th>4</th>\n",
       "      <td>0</td>\n",
       "      <td>1</td>\n",
       "    </tr>\n",
       "    <tr>\n",
       "      <th>...</th>\n",
       "      <td>...</td>\n",
       "      <td>...</td>\n",
       "    </tr>\n",
       "    <tr>\n",
       "      <th>886</th>\n",
       "      <td>0</td>\n",
       "      <td>1</td>\n",
       "    </tr>\n",
       "    <tr>\n",
       "      <th>887</th>\n",
       "      <td>1</td>\n",
       "      <td>0</td>\n",
       "    </tr>\n",
       "    <tr>\n",
       "      <th>888</th>\n",
       "      <td>1</td>\n",
       "      <td>0</td>\n",
       "    </tr>\n",
       "    <tr>\n",
       "      <th>889</th>\n",
       "      <td>0</td>\n",
       "      <td>1</td>\n",
       "    </tr>\n",
       "    <tr>\n",
       "      <th>890</th>\n",
       "      <td>0</td>\n",
       "      <td>1</td>\n",
       "    </tr>\n",
       "  </tbody>\n",
       "</table>\n",
       "<p>891 rows × 2 columns</p>\n",
       "</div>"
      ],
      "text/plain": [
       "     female  male\n",
       "0         0     1\n",
       "1         1     0\n",
       "2         1     0\n",
       "3         1     0\n",
       "4         0     1\n",
       "..      ...   ...\n",
       "886       0     1\n",
       "887       1     0\n",
       "888       1     0\n",
       "889       0     1\n",
       "890       0     1\n",
       "\n",
       "[891 rows x 2 columns]"
      ]
     },
     "execution_count": 13,
     "metadata": {},
     "output_type": "execute_result"
    }
   ],
   "source": [
    "dummies"
   ]
  },
  {
   "cell_type": "code",
   "execution_count": 14,
   "id": "928f2ff5",
   "metadata": {
    "execution": {
     "iopub.execute_input": "2022-04-03T08:54:20.869749Z",
     "iopub.status.busy": "2022-04-03T08:54:20.868809Z",
     "iopub.status.idle": "2022-04-03T08:54:20.880963Z",
     "shell.execute_reply": "2022-04-03T08:54:20.881429Z",
     "shell.execute_reply.started": "2022-04-03T08:53:19.939982Z"
    },
    "papermill": {
     "duration": 0.070665,
     "end_time": "2022-04-03T08:54:20.881608",
     "exception": false,
     "start_time": "2022-04-03T08:54:20.810943",
     "status": "completed"
    },
    "tags": []
   },
   "outputs": [
    {
     "data": {
      "text/html": [
       "<div>\n",
       "<style scoped>\n",
       "    .dataframe tbody tr th:only-of-type {\n",
       "        vertical-align: middle;\n",
       "    }\n",
       "\n",
       "    .dataframe tbody tr th {\n",
       "        vertical-align: top;\n",
       "    }\n",
       "\n",
       "    .dataframe thead th {\n",
       "        text-align: right;\n",
       "    }\n",
       "</style>\n",
       "<table border=\"1\" class=\"dataframe\">\n",
       "  <thead>\n",
       "    <tr style=\"text-align: right;\">\n",
       "      <th></th>\n",
       "      <th>PassengerId</th>\n",
       "      <th>Survived</th>\n",
       "      <th>Pclass</th>\n",
       "      <th>Sex</th>\n",
       "      <th>Age</th>\n",
       "      <th>Fare</th>\n",
       "    </tr>\n",
       "  </thead>\n",
       "  <tbody>\n",
       "    <tr>\n",
       "      <th>0</th>\n",
       "      <td>1</td>\n",
       "      <td>0</td>\n",
       "      <td>3</td>\n",
       "      <td>male</td>\n",
       "      <td>22.0</td>\n",
       "      <td>7.2500</td>\n",
       "    </tr>\n",
       "    <tr>\n",
       "      <th>1</th>\n",
       "      <td>2</td>\n",
       "      <td>1</td>\n",
       "      <td>1</td>\n",
       "      <td>female</td>\n",
       "      <td>38.0</td>\n",
       "      <td>71.2833</td>\n",
       "    </tr>\n",
       "    <tr>\n",
       "      <th>2</th>\n",
       "      <td>3</td>\n",
       "      <td>1</td>\n",
       "      <td>3</td>\n",
       "      <td>female</td>\n",
       "      <td>26.0</td>\n",
       "      <td>7.9250</td>\n",
       "    </tr>\n",
       "    <tr>\n",
       "      <th>3</th>\n",
       "      <td>4</td>\n",
       "      <td>1</td>\n",
       "      <td>1</td>\n",
       "      <td>female</td>\n",
       "      <td>35.0</td>\n",
       "      <td>53.1000</td>\n",
       "    </tr>\n",
       "    <tr>\n",
       "      <th>4</th>\n",
       "      <td>5</td>\n",
       "      <td>0</td>\n",
       "      <td>3</td>\n",
       "      <td>male</td>\n",
       "      <td>35.0</td>\n",
       "      <td>8.0500</td>\n",
       "    </tr>\n",
       "  </tbody>\n",
       "</table>\n",
       "</div>"
      ],
      "text/plain": [
       "   PassengerId  Survived  Pclass     Sex   Age     Fare\n",
       "0            1         0       3    male  22.0   7.2500\n",
       "1            2         1       1  female  38.0  71.2833\n",
       "2            3         1       3  female  26.0   7.9250\n",
       "3            4         1       1  female  35.0  53.1000\n",
       "4            5         0       3    male  35.0   8.0500"
      ]
     },
     "execution_count": 14,
     "metadata": {},
     "output_type": "execute_result"
    }
   ],
   "source": [
    "train_df.head()"
   ]
  },
  {
   "cell_type": "code",
   "execution_count": 15,
   "id": "77e2fcd9",
   "metadata": {
    "execution": {
     "iopub.execute_input": "2022-04-03T08:54:20.995912Z",
     "iopub.status.busy": "2022-04-03T08:54:20.994998Z",
     "iopub.status.idle": "2022-04-03T08:54:20.999585Z",
     "shell.execute_reply": "2022-04-03T08:54:21.000115Z",
     "shell.execute_reply.started": "2022-04-03T08:53:19.956207Z"
    },
    "papermill": {
     "duration": 0.063687,
     "end_time": "2022-04-03T08:54:21.000279",
     "exception": false,
     "start_time": "2022-04-03T08:54:20.936592",
     "status": "completed"
    },
    "tags": []
   },
   "outputs": [],
   "source": [
    "train_df=pd.concat([train_df,dummies],axis=1)"
   ]
  },
  {
   "cell_type": "code",
   "execution_count": 16,
   "id": "5ed4e07b",
   "metadata": {
    "execution": {
     "iopub.execute_input": "2022-04-03T08:54:21.114840Z",
     "iopub.status.busy": "2022-04-03T08:54:21.113892Z",
     "iopub.status.idle": "2022-04-03T08:54:21.123717Z",
     "shell.execute_reply": "2022-04-03T08:54:21.124206Z",
     "shell.execute_reply.started": "2022-04-03T08:53:19.963001Z"
    },
    "papermill": {
     "duration": 0.069664,
     "end_time": "2022-04-03T08:54:21.124379",
     "exception": false,
     "start_time": "2022-04-03T08:54:21.054715",
     "status": "completed"
    },
    "tags": []
   },
   "outputs": [
    {
     "data": {
      "text/html": [
       "<div>\n",
       "<style scoped>\n",
       "    .dataframe tbody tr th:only-of-type {\n",
       "        vertical-align: middle;\n",
       "    }\n",
       "\n",
       "    .dataframe tbody tr th {\n",
       "        vertical-align: top;\n",
       "    }\n",
       "\n",
       "    .dataframe thead th {\n",
       "        text-align: right;\n",
       "    }\n",
       "</style>\n",
       "<table border=\"1\" class=\"dataframe\">\n",
       "  <thead>\n",
       "    <tr style=\"text-align: right;\">\n",
       "      <th></th>\n",
       "      <th>PassengerId</th>\n",
       "      <th>Survived</th>\n",
       "      <th>Pclass</th>\n",
       "      <th>Sex</th>\n",
       "      <th>Age</th>\n",
       "      <th>Fare</th>\n",
       "      <th>female</th>\n",
       "      <th>male</th>\n",
       "    </tr>\n",
       "  </thead>\n",
       "  <tbody>\n",
       "    <tr>\n",
       "      <th>0</th>\n",
       "      <td>1</td>\n",
       "      <td>0</td>\n",
       "      <td>3</td>\n",
       "      <td>male</td>\n",
       "      <td>22.0</td>\n",
       "      <td>7.2500</td>\n",
       "      <td>0</td>\n",
       "      <td>1</td>\n",
       "    </tr>\n",
       "    <tr>\n",
       "      <th>1</th>\n",
       "      <td>2</td>\n",
       "      <td>1</td>\n",
       "      <td>1</td>\n",
       "      <td>female</td>\n",
       "      <td>38.0</td>\n",
       "      <td>71.2833</td>\n",
       "      <td>1</td>\n",
       "      <td>0</td>\n",
       "    </tr>\n",
       "    <tr>\n",
       "      <th>2</th>\n",
       "      <td>3</td>\n",
       "      <td>1</td>\n",
       "      <td>3</td>\n",
       "      <td>female</td>\n",
       "      <td>26.0</td>\n",
       "      <td>7.9250</td>\n",
       "      <td>1</td>\n",
       "      <td>0</td>\n",
       "    </tr>\n",
       "    <tr>\n",
       "      <th>3</th>\n",
       "      <td>4</td>\n",
       "      <td>1</td>\n",
       "      <td>1</td>\n",
       "      <td>female</td>\n",
       "      <td>35.0</td>\n",
       "      <td>53.1000</td>\n",
       "      <td>1</td>\n",
       "      <td>0</td>\n",
       "    </tr>\n",
       "    <tr>\n",
       "      <th>4</th>\n",
       "      <td>5</td>\n",
       "      <td>0</td>\n",
       "      <td>3</td>\n",
       "      <td>male</td>\n",
       "      <td>35.0</td>\n",
       "      <td>8.0500</td>\n",
       "      <td>0</td>\n",
       "      <td>1</td>\n",
       "    </tr>\n",
       "  </tbody>\n",
       "</table>\n",
       "</div>"
      ],
      "text/plain": [
       "   PassengerId  Survived  Pclass     Sex   Age     Fare  female  male\n",
       "0            1         0       3    male  22.0   7.2500       0     1\n",
       "1            2         1       1  female  38.0  71.2833       1     0\n",
       "2            3         1       3  female  26.0   7.9250       1     0\n",
       "3            4         1       1  female  35.0  53.1000       1     0\n",
       "4            5         0       3    male  35.0   8.0500       0     1"
      ]
     },
     "execution_count": 16,
     "metadata": {},
     "output_type": "execute_result"
    }
   ],
   "source": [
    "train_df.head()"
   ]
  },
  {
   "cell_type": "code",
   "execution_count": 17,
   "id": "e1b84487",
   "metadata": {
    "execution": {
     "iopub.execute_input": "2022-04-03T08:54:21.239418Z",
     "iopub.status.busy": "2022-04-03T08:54:21.238446Z",
     "iopub.status.idle": "2022-04-03T08:54:21.240579Z",
     "shell.execute_reply": "2022-04-03T08:54:21.240962Z",
     "shell.execute_reply.started": "2022-04-03T08:53:19.987116Z"
    },
    "papermill": {
     "duration": 0.062404,
     "end_time": "2022-04-03T08:54:21.241125",
     "exception": false,
     "start_time": "2022-04-03T08:54:21.178721",
     "status": "completed"
    },
    "tags": []
   },
   "outputs": [],
   "source": [
    "train_df.drop(['Sex','male'],axis=1,inplace=True)"
   ]
  },
  {
   "cell_type": "code",
   "execution_count": 18,
   "id": "84114f98",
   "metadata": {
    "execution": {
     "iopub.execute_input": "2022-04-03T08:54:21.359833Z",
     "iopub.status.busy": "2022-04-03T08:54:21.359101Z",
     "iopub.status.idle": "2022-04-03T08:54:21.362087Z",
     "shell.execute_reply": "2022-04-03T08:54:21.362539Z",
     "shell.execute_reply.started": "2022-04-03T08:53:19.994253Z"
    },
    "papermill": {
     "duration": 0.067303,
     "end_time": "2022-04-03T08:54:21.362707",
     "exception": false,
     "start_time": "2022-04-03T08:54:21.295404",
     "status": "completed"
    },
    "tags": []
   },
   "outputs": [
    {
     "data": {
      "text/html": [
       "<div>\n",
       "<style scoped>\n",
       "    .dataframe tbody tr th:only-of-type {\n",
       "        vertical-align: middle;\n",
       "    }\n",
       "\n",
       "    .dataframe tbody tr th {\n",
       "        vertical-align: top;\n",
       "    }\n",
       "\n",
       "    .dataframe thead th {\n",
       "        text-align: right;\n",
       "    }\n",
       "</style>\n",
       "<table border=\"1\" class=\"dataframe\">\n",
       "  <thead>\n",
       "    <tr style=\"text-align: right;\">\n",
       "      <th></th>\n",
       "      <th>PassengerId</th>\n",
       "      <th>Survived</th>\n",
       "      <th>Pclass</th>\n",
       "      <th>Age</th>\n",
       "      <th>Fare</th>\n",
       "      <th>female</th>\n",
       "    </tr>\n",
       "  </thead>\n",
       "  <tbody>\n",
       "    <tr>\n",
       "      <th>0</th>\n",
       "      <td>1</td>\n",
       "      <td>0</td>\n",
       "      <td>3</td>\n",
       "      <td>22.0</td>\n",
       "      <td>7.2500</td>\n",
       "      <td>0</td>\n",
       "    </tr>\n",
       "    <tr>\n",
       "      <th>1</th>\n",
       "      <td>2</td>\n",
       "      <td>1</td>\n",
       "      <td>1</td>\n",
       "      <td>38.0</td>\n",
       "      <td>71.2833</td>\n",
       "      <td>1</td>\n",
       "    </tr>\n",
       "    <tr>\n",
       "      <th>2</th>\n",
       "      <td>3</td>\n",
       "      <td>1</td>\n",
       "      <td>3</td>\n",
       "      <td>26.0</td>\n",
       "      <td>7.9250</td>\n",
       "      <td>1</td>\n",
       "    </tr>\n",
       "    <tr>\n",
       "      <th>3</th>\n",
       "      <td>4</td>\n",
       "      <td>1</td>\n",
       "      <td>1</td>\n",
       "      <td>35.0</td>\n",
       "      <td>53.1000</td>\n",
       "      <td>1</td>\n",
       "    </tr>\n",
       "    <tr>\n",
       "      <th>4</th>\n",
       "      <td>5</td>\n",
       "      <td>0</td>\n",
       "      <td>3</td>\n",
       "      <td>35.0</td>\n",
       "      <td>8.0500</td>\n",
       "      <td>0</td>\n",
       "    </tr>\n",
       "  </tbody>\n",
       "</table>\n",
       "</div>"
      ],
      "text/plain": [
       "   PassengerId  Survived  Pclass   Age     Fare  female\n",
       "0            1         0       3  22.0   7.2500       0\n",
       "1            2         1       1  38.0  71.2833       1\n",
       "2            3         1       3  26.0   7.9250       1\n",
       "3            4         1       1  35.0  53.1000       1\n",
       "4            5         0       3  35.0   8.0500       0"
      ]
     },
     "execution_count": 18,
     "metadata": {},
     "output_type": "execute_result"
    }
   ],
   "source": [
    "train_df.head()"
   ]
  },
  {
   "cell_type": "code",
   "execution_count": 19,
   "id": "567e2a95",
   "metadata": {
    "execution": {
     "iopub.execute_input": "2022-04-03T08:54:21.482720Z",
     "iopub.status.busy": "2022-04-03T08:54:21.482107Z",
     "iopub.status.idle": "2022-04-03T08:54:21.486629Z",
     "shell.execute_reply": "2022-04-03T08:54:21.486099Z",
     "shell.execute_reply.started": "2022-04-03T08:53:20.019518Z"
    },
    "papermill": {
     "duration": 0.066182,
     "end_time": "2022-04-03T08:54:21.486768",
     "exception": false,
     "start_time": "2022-04-03T08:54:21.420586",
     "status": "completed"
    },
    "tags": []
   },
   "outputs": [],
   "source": [
    "X=train_df.rename(columns={'female':'Female'})"
   ]
  },
  {
   "cell_type": "code",
   "execution_count": 20,
   "id": "5459fee5",
   "metadata": {
    "execution": {
     "iopub.execute_input": "2022-04-03T08:54:21.605739Z",
     "iopub.status.busy": "2022-04-03T08:54:21.605157Z",
     "iopub.status.idle": "2022-04-03T08:54:21.609955Z",
     "shell.execute_reply": "2022-04-03T08:54:21.610612Z",
     "shell.execute_reply.started": "2022-04-03T08:53:20.029267Z"
    },
    "papermill": {
     "duration": 0.066025,
     "end_time": "2022-04-03T08:54:21.610870",
     "exception": false,
     "start_time": "2022-04-03T08:54:21.544845",
     "status": "completed"
    },
    "tags": []
   },
   "outputs": [],
   "source": [
    "test_df.drop(['Name','SibSp','Parch','Ticket','Cabin','Embarked'],axis=1,inplace=True)"
   ]
  },
  {
   "cell_type": "code",
   "execution_count": 21,
   "id": "9972b38e",
   "metadata": {
    "execution": {
     "iopub.execute_input": "2022-04-03T08:54:21.732341Z",
     "iopub.status.busy": "2022-04-03T08:54:21.731686Z",
     "iopub.status.idle": "2022-04-03T08:54:21.736984Z",
     "shell.execute_reply": "2022-04-03T08:54:21.737483Z",
     "shell.execute_reply.started": "2022-04-03T08:53:20.041977Z"
    },
    "papermill": {
     "duration": 0.06732,
     "end_time": "2022-04-03T08:54:21.737647",
     "exception": false,
     "start_time": "2022-04-03T08:54:21.670327",
     "status": "completed"
    },
    "tags": []
   },
   "outputs": [],
   "source": [
    "test_df=pd.concat([test_df,dummies],axis=1)"
   ]
  },
  {
   "cell_type": "code",
   "execution_count": 22,
   "id": "0d45556f",
   "metadata": {
    "execution": {
     "iopub.execute_input": "2022-04-03T08:54:21.852735Z",
     "iopub.status.busy": "2022-04-03T08:54:21.852098Z",
     "iopub.status.idle": "2022-04-03T08:54:21.862911Z",
     "shell.execute_reply": "2022-04-03T08:54:21.863436Z",
     "shell.execute_reply.started": "2022-04-03T08:53:20.057502Z"
    },
    "papermill": {
     "duration": 0.070674,
     "end_time": "2022-04-03T08:54:21.863616",
     "exception": false,
     "start_time": "2022-04-03T08:54:21.792942",
     "status": "completed"
    },
    "tags": []
   },
   "outputs": [
    {
     "data": {
      "text/html": [
       "<div>\n",
       "<style scoped>\n",
       "    .dataframe tbody tr th:only-of-type {\n",
       "        vertical-align: middle;\n",
       "    }\n",
       "\n",
       "    .dataframe tbody tr th {\n",
       "        vertical-align: top;\n",
       "    }\n",
       "\n",
       "    .dataframe thead th {\n",
       "        text-align: right;\n",
       "    }\n",
       "</style>\n",
       "<table border=\"1\" class=\"dataframe\">\n",
       "  <thead>\n",
       "    <tr style=\"text-align: right;\">\n",
       "      <th></th>\n",
       "      <th>PassengerId</th>\n",
       "      <th>Pclass</th>\n",
       "      <th>Sex</th>\n",
       "      <th>Age</th>\n",
       "      <th>Fare</th>\n",
       "      <th>female</th>\n",
       "      <th>male</th>\n",
       "    </tr>\n",
       "  </thead>\n",
       "  <tbody>\n",
       "    <tr>\n",
       "      <th>0</th>\n",
       "      <td>892.0</td>\n",
       "      <td>3.0</td>\n",
       "      <td>male</td>\n",
       "      <td>34.5</td>\n",
       "      <td>7.8292</td>\n",
       "      <td>0</td>\n",
       "      <td>1</td>\n",
       "    </tr>\n",
       "    <tr>\n",
       "      <th>1</th>\n",
       "      <td>893.0</td>\n",
       "      <td>3.0</td>\n",
       "      <td>female</td>\n",
       "      <td>47.0</td>\n",
       "      <td>7.0000</td>\n",
       "      <td>1</td>\n",
       "      <td>0</td>\n",
       "    </tr>\n",
       "    <tr>\n",
       "      <th>2</th>\n",
       "      <td>894.0</td>\n",
       "      <td>2.0</td>\n",
       "      <td>male</td>\n",
       "      <td>62.0</td>\n",
       "      <td>9.6875</td>\n",
       "      <td>1</td>\n",
       "      <td>0</td>\n",
       "    </tr>\n",
       "  </tbody>\n",
       "</table>\n",
       "</div>"
      ],
      "text/plain": [
       "   PassengerId  Pclass     Sex   Age    Fare  female  male\n",
       "0        892.0     3.0    male  34.5  7.8292       0     1\n",
       "1        893.0     3.0  female  47.0  7.0000       1     0\n",
       "2        894.0     2.0    male  62.0  9.6875       1     0"
      ]
     },
     "execution_count": 22,
     "metadata": {},
     "output_type": "execute_result"
    }
   ],
   "source": [
    "test_df.head(3)"
   ]
  },
  {
   "cell_type": "code",
   "execution_count": 23,
   "id": "31a23260",
   "metadata": {
    "execution": {
     "iopub.execute_input": "2022-04-03T08:54:21.979392Z",
     "iopub.status.busy": "2022-04-03T08:54:21.978797Z",
     "iopub.status.idle": "2022-04-03T08:54:21.984056Z",
     "shell.execute_reply": "2022-04-03T08:54:21.984564Z",
     "shell.execute_reply.started": "2022-04-03T08:53:20.077400Z"
    },
    "papermill": {
     "duration": 0.065517,
     "end_time": "2022-04-03T08:54:21.984743",
     "exception": false,
     "start_time": "2022-04-03T08:54:21.919226",
     "status": "completed"
    },
    "tags": []
   },
   "outputs": [],
   "source": [
    "test_df.drop(['Sex','male'],axis=1,inplace=True)"
   ]
  },
  {
   "cell_type": "code",
   "execution_count": 24,
   "id": "ebef9109",
   "metadata": {
    "execution": {
     "iopub.execute_input": "2022-04-03T08:54:22.099340Z",
     "iopub.status.busy": "2022-04-03T08:54:22.098741Z",
     "iopub.status.idle": "2022-04-03T08:54:22.113653Z",
     "shell.execute_reply": "2022-04-03T08:54:22.114176Z",
     "shell.execute_reply.started": "2022-04-03T08:53:20.090593Z"
    },
    "papermill": {
     "duration": 0.074054,
     "end_time": "2022-04-03T08:54:22.114343",
     "exception": false,
     "start_time": "2022-04-03T08:54:22.040289",
     "status": "completed"
    },
    "tags": []
   },
   "outputs": [
    {
     "data": {
      "text/html": [
       "<div>\n",
       "<style scoped>\n",
       "    .dataframe tbody tr th:only-of-type {\n",
       "        vertical-align: middle;\n",
       "    }\n",
       "\n",
       "    .dataframe tbody tr th {\n",
       "        vertical-align: top;\n",
       "    }\n",
       "\n",
       "    .dataframe thead th {\n",
       "        text-align: right;\n",
       "    }\n",
       "</style>\n",
       "<table border=\"1\" class=\"dataframe\">\n",
       "  <thead>\n",
       "    <tr style=\"text-align: right;\">\n",
       "      <th></th>\n",
       "      <th>PassengerId</th>\n",
       "      <th>Pclass</th>\n",
       "      <th>Age</th>\n",
       "      <th>Fare</th>\n",
       "      <th>Female</th>\n",
       "    </tr>\n",
       "  </thead>\n",
       "  <tbody>\n",
       "    <tr>\n",
       "      <th>0</th>\n",
       "      <td>892.0</td>\n",
       "      <td>3.0</td>\n",
       "      <td>34.5</td>\n",
       "      <td>7.8292</td>\n",
       "      <td>0</td>\n",
       "    </tr>\n",
       "    <tr>\n",
       "      <th>1</th>\n",
       "      <td>893.0</td>\n",
       "      <td>3.0</td>\n",
       "      <td>47.0</td>\n",
       "      <td>7.0000</td>\n",
       "      <td>1</td>\n",
       "    </tr>\n",
       "    <tr>\n",
       "      <th>2</th>\n",
       "      <td>894.0</td>\n",
       "      <td>2.0</td>\n",
       "      <td>62.0</td>\n",
       "      <td>9.6875</td>\n",
       "      <td>1</td>\n",
       "    </tr>\n",
       "    <tr>\n",
       "      <th>3</th>\n",
       "      <td>895.0</td>\n",
       "      <td>3.0</td>\n",
       "      <td>27.0</td>\n",
       "      <td>8.6625</td>\n",
       "      <td>1</td>\n",
       "    </tr>\n",
       "    <tr>\n",
       "      <th>4</th>\n",
       "      <td>896.0</td>\n",
       "      <td>3.0</td>\n",
       "      <td>22.0</td>\n",
       "      <td>12.2875</td>\n",
       "      <td>0</td>\n",
       "    </tr>\n",
       "    <tr>\n",
       "      <th>...</th>\n",
       "      <td>...</td>\n",
       "      <td>...</td>\n",
       "      <td>...</td>\n",
       "      <td>...</td>\n",
       "      <td>...</td>\n",
       "    </tr>\n",
       "    <tr>\n",
       "      <th>886</th>\n",
       "      <td>NaN</td>\n",
       "      <td>NaN</td>\n",
       "      <td>NaN</td>\n",
       "      <td>NaN</td>\n",
       "      <td>0</td>\n",
       "    </tr>\n",
       "    <tr>\n",
       "      <th>887</th>\n",
       "      <td>NaN</td>\n",
       "      <td>NaN</td>\n",
       "      <td>NaN</td>\n",
       "      <td>NaN</td>\n",
       "      <td>1</td>\n",
       "    </tr>\n",
       "    <tr>\n",
       "      <th>888</th>\n",
       "      <td>NaN</td>\n",
       "      <td>NaN</td>\n",
       "      <td>NaN</td>\n",
       "      <td>NaN</td>\n",
       "      <td>1</td>\n",
       "    </tr>\n",
       "    <tr>\n",
       "      <th>889</th>\n",
       "      <td>NaN</td>\n",
       "      <td>NaN</td>\n",
       "      <td>NaN</td>\n",
       "      <td>NaN</td>\n",
       "      <td>0</td>\n",
       "    </tr>\n",
       "    <tr>\n",
       "      <th>890</th>\n",
       "      <td>NaN</td>\n",
       "      <td>NaN</td>\n",
       "      <td>NaN</td>\n",
       "      <td>NaN</td>\n",
       "      <td>0</td>\n",
       "    </tr>\n",
       "  </tbody>\n",
       "</table>\n",
       "<p>891 rows × 5 columns</p>\n",
       "</div>"
      ],
      "text/plain": [
       "     PassengerId  Pclass   Age     Fare  Female\n",
       "0          892.0     3.0  34.5   7.8292       0\n",
       "1          893.0     3.0  47.0   7.0000       1\n",
       "2          894.0     2.0  62.0   9.6875       1\n",
       "3          895.0     3.0  27.0   8.6625       1\n",
       "4          896.0     3.0  22.0  12.2875       0\n",
       "..           ...     ...   ...      ...     ...\n",
       "886          NaN     NaN   NaN      NaN       0\n",
       "887          NaN     NaN   NaN      NaN       1\n",
       "888          NaN     NaN   NaN      NaN       1\n",
       "889          NaN     NaN   NaN      NaN       0\n",
       "890          NaN     NaN   NaN      NaN       0\n",
       "\n",
       "[891 rows x 5 columns]"
      ]
     },
     "execution_count": 24,
     "metadata": {},
     "output_type": "execute_result"
    }
   ],
   "source": [
    "test_df.rename(columns={'female':'Female'})"
   ]
  },
  {
   "cell_type": "code",
   "execution_count": 25,
   "id": "3c2c9d1a",
   "metadata": {
    "execution": {
     "iopub.execute_input": "2022-04-03T08:54:22.230737Z",
     "iopub.status.busy": "2022-04-03T08:54:22.230144Z",
     "iopub.status.idle": "2022-04-03T08:54:22.234282Z",
     "shell.execute_reply": "2022-04-03T08:54:22.234734Z",
     "shell.execute_reply.started": "2022-04-03T08:53:20.116941Z"
    },
    "papermill": {
     "duration": 0.06406,
     "end_time": "2022-04-03T08:54:22.234906",
     "exception": false,
     "start_time": "2022-04-03T08:54:22.170846",
     "status": "completed"
    },
    "tags": []
   },
   "outputs": [],
   "source": [
    "test_df.Age=test_df.Age.fillna(test_df.Age.mean())"
   ]
  },
  {
   "cell_type": "code",
   "execution_count": 26,
   "id": "58b5aabe",
   "metadata": {
    "execution": {
     "iopub.execute_input": "2022-04-03T08:54:22.349608Z",
     "iopub.status.busy": "2022-04-03T08:54:22.348964Z",
     "iopub.status.idle": "2022-04-03T08:54:22.359168Z",
     "shell.execute_reply": "2022-04-03T08:54:22.359699Z",
     "shell.execute_reply.started": "2022-04-03T08:53:20.125327Z"
    },
    "papermill": {
     "duration": 0.06958,
     "end_time": "2022-04-03T08:54:22.359871",
     "exception": false,
     "start_time": "2022-04-03T08:54:22.290291",
     "status": "completed"
    },
    "tags": []
   },
   "outputs": [
    {
     "data": {
      "text/html": [
       "<div>\n",
       "<style scoped>\n",
       "    .dataframe tbody tr th:only-of-type {\n",
       "        vertical-align: middle;\n",
       "    }\n",
       "\n",
       "    .dataframe tbody tr th {\n",
       "        vertical-align: top;\n",
       "    }\n",
       "\n",
       "    .dataframe thead th {\n",
       "        text-align: right;\n",
       "    }\n",
       "</style>\n",
       "<table border=\"1\" class=\"dataframe\">\n",
       "  <thead>\n",
       "    <tr style=\"text-align: right;\">\n",
       "      <th></th>\n",
       "      <th>PassengerId</th>\n",
       "      <th>Pclass</th>\n",
       "      <th>Age</th>\n",
       "      <th>Fare</th>\n",
       "      <th>female</th>\n",
       "    </tr>\n",
       "  </thead>\n",
       "  <tbody>\n",
       "    <tr>\n",
       "      <th>0</th>\n",
       "      <td>892.0</td>\n",
       "      <td>3.0</td>\n",
       "      <td>34.5</td>\n",
       "      <td>7.8292</td>\n",
       "      <td>0</td>\n",
       "    </tr>\n",
       "    <tr>\n",
       "      <th>1</th>\n",
       "      <td>893.0</td>\n",
       "      <td>3.0</td>\n",
       "      <td>47.0</td>\n",
       "      <td>7.0000</td>\n",
       "      <td>1</td>\n",
       "    </tr>\n",
       "  </tbody>\n",
       "</table>\n",
       "</div>"
      ],
      "text/plain": [
       "   PassengerId  Pclass   Age    Fare  female\n",
       "0        892.0     3.0  34.5  7.8292       0\n",
       "1        893.0     3.0  47.0  7.0000       1"
      ]
     },
     "execution_count": 26,
     "metadata": {},
     "output_type": "execute_result"
    }
   ],
   "source": [
    "test_df.head(2)"
   ]
  },
  {
   "cell_type": "code",
   "execution_count": 27,
   "id": "e6c8af4f",
   "metadata": {
    "execution": {
     "iopub.execute_input": "2022-04-03T08:54:22.476573Z",
     "iopub.status.busy": "2022-04-03T08:54:22.475960Z",
     "iopub.status.idle": "2022-04-03T08:54:22.479918Z",
     "shell.execute_reply": "2022-04-03T08:54:22.480399Z",
     "shell.execute_reply.started": "2022-04-03T08:53:20.147248Z"
    },
    "papermill": {
     "duration": 0.063477,
     "end_time": "2022-04-03T08:54:22.480584",
     "exception": false,
     "start_time": "2022-04-03T08:54:22.417107",
     "status": "completed"
    },
    "tags": []
   },
   "outputs": [],
   "source": [
    "y=test_df.rename(columns={'female':'Female'})"
   ]
  },
  {
   "cell_type": "code",
   "execution_count": 28,
   "id": "e309c88b",
   "metadata": {
    "execution": {
     "iopub.execute_input": "2022-04-03T08:54:22.597037Z",
     "iopub.status.busy": "2022-04-03T08:54:22.596322Z",
     "iopub.status.idle": "2022-04-03T08:54:22.606737Z",
     "shell.execute_reply": "2022-04-03T08:54:22.607329Z",
     "shell.execute_reply.started": "2022-04-03T08:53:20.168040Z"
    },
    "papermill": {
     "duration": 0.070546,
     "end_time": "2022-04-03T08:54:22.607523",
     "exception": false,
     "start_time": "2022-04-03T08:54:22.536977",
     "status": "completed"
    },
    "tags": []
   },
   "outputs": [
    {
     "data": {
      "text/html": [
       "<div>\n",
       "<style scoped>\n",
       "    .dataframe tbody tr th:only-of-type {\n",
       "        vertical-align: middle;\n",
       "    }\n",
       "\n",
       "    .dataframe tbody tr th {\n",
       "        vertical-align: top;\n",
       "    }\n",
       "\n",
       "    .dataframe thead th {\n",
       "        text-align: right;\n",
       "    }\n",
       "</style>\n",
       "<table border=\"1\" class=\"dataframe\">\n",
       "  <thead>\n",
       "    <tr style=\"text-align: right;\">\n",
       "      <th></th>\n",
       "      <th>PassengerId</th>\n",
       "      <th>Pclass</th>\n",
       "      <th>Age</th>\n",
       "      <th>Fare</th>\n",
       "      <th>Female</th>\n",
       "    </tr>\n",
       "  </thead>\n",
       "  <tbody>\n",
       "    <tr>\n",
       "      <th>0</th>\n",
       "      <td>892.0</td>\n",
       "      <td>3.0</td>\n",
       "      <td>34.5</td>\n",
       "      <td>7.8292</td>\n",
       "      <td>0</td>\n",
       "    </tr>\n",
       "    <tr>\n",
       "      <th>1</th>\n",
       "      <td>893.0</td>\n",
       "      <td>3.0</td>\n",
       "      <td>47.0</td>\n",
       "      <td>7.0000</td>\n",
       "      <td>1</td>\n",
       "    </tr>\n",
       "    <tr>\n",
       "      <th>2</th>\n",
       "      <td>894.0</td>\n",
       "      <td>2.0</td>\n",
       "      <td>62.0</td>\n",
       "      <td>9.6875</td>\n",
       "      <td>1</td>\n",
       "    </tr>\n",
       "    <tr>\n",
       "      <th>3</th>\n",
       "      <td>895.0</td>\n",
       "      <td>3.0</td>\n",
       "      <td>27.0</td>\n",
       "      <td>8.6625</td>\n",
       "      <td>1</td>\n",
       "    </tr>\n",
       "    <tr>\n",
       "      <th>4</th>\n",
       "      <td>896.0</td>\n",
       "      <td>3.0</td>\n",
       "      <td>22.0</td>\n",
       "      <td>12.2875</td>\n",
       "      <td>0</td>\n",
       "    </tr>\n",
       "  </tbody>\n",
       "</table>\n",
       "</div>"
      ],
      "text/plain": [
       "   PassengerId  Pclass   Age     Fare  Female\n",
       "0        892.0     3.0  34.5   7.8292       0\n",
       "1        893.0     3.0  47.0   7.0000       1\n",
       "2        894.0     2.0  62.0   9.6875       1\n",
       "3        895.0     3.0  27.0   8.6625       1\n",
       "4        896.0     3.0  22.0  12.2875       0"
      ]
     },
     "execution_count": 28,
     "metadata": {},
     "output_type": "execute_result"
    }
   ],
   "source": [
    "y.head()"
   ]
  },
  {
   "cell_type": "code",
   "execution_count": 29,
   "id": "647911ea",
   "metadata": {
    "execution": {
     "iopub.execute_input": "2022-04-03T08:54:22.726533Z",
     "iopub.status.busy": "2022-04-03T08:54:22.725867Z",
     "iopub.status.idle": "2022-04-03T08:54:22.728229Z",
     "shell.execute_reply": "2022-04-03T08:54:22.728724Z",
     "shell.execute_reply.started": "2022-04-03T08:53:20.191380Z"
    },
    "papermill": {
     "duration": 0.064628,
     "end_time": "2022-04-03T08:54:22.728895",
     "exception": false,
     "start_time": "2022-04-03T08:54:22.664267",
     "status": "completed"
    },
    "tags": []
   },
   "outputs": [
    {
     "data": {
      "text/plain": [
       "Index(['PassengerId', 'Pclass', 'Age', 'Fare', 'female'], dtype='object')"
      ]
     },
     "execution_count": 29,
     "metadata": {},
     "output_type": "execute_result"
    }
   ],
   "source": [
    "test_df.columns"
   ]
  },
  {
   "cell_type": "code",
   "execution_count": 30,
   "id": "78f33f9f",
   "metadata": {
    "execution": {
     "iopub.execute_input": "2022-04-03T08:54:22.847374Z",
     "iopub.status.busy": "2022-04-03T08:54:22.846740Z",
     "iopub.status.idle": "2022-04-03T08:54:22.865095Z",
     "shell.execute_reply": "2022-04-03T08:54:22.865597Z",
     "shell.execute_reply.started": "2022-04-03T08:53:20.198663Z"
    },
    "papermill": {
     "duration": 0.078601,
     "end_time": "2022-04-03T08:54:22.865784",
     "exception": false,
     "start_time": "2022-04-03T08:54:22.787183",
     "status": "completed"
    },
    "tags": []
   },
   "outputs": [],
   "source": [
    "input=X.merge(y,on=['PassengerId','Pclass','Age','Fare','Female'],how='outer')"
   ]
  },
  {
   "cell_type": "code",
   "execution_count": 31,
   "id": "8abaceda",
   "metadata": {
    "execution": {
     "iopub.execute_input": "2022-04-03T08:54:22.984981Z",
     "iopub.status.busy": "2022-04-03T08:54:22.984374Z",
     "iopub.status.idle": "2022-04-03T08:54:22.996913Z",
     "shell.execute_reply": "2022-04-03T08:54:22.997419Z",
     "shell.execute_reply.started": "2022-04-03T08:53:20.233965Z"
    },
    "papermill": {
     "duration": 0.073239,
     "end_time": "2022-04-03T08:54:22.997606",
     "exception": false,
     "start_time": "2022-04-03T08:54:22.924367",
     "status": "completed"
    },
    "tags": []
   },
   "outputs": [
    {
     "data": {
      "text/html": [
       "<div>\n",
       "<style scoped>\n",
       "    .dataframe tbody tr th:only-of-type {\n",
       "        vertical-align: middle;\n",
       "    }\n",
       "\n",
       "    .dataframe tbody tr th {\n",
       "        vertical-align: top;\n",
       "    }\n",
       "\n",
       "    .dataframe thead th {\n",
       "        text-align: right;\n",
       "    }\n",
       "</style>\n",
       "<table border=\"1\" class=\"dataframe\">\n",
       "  <thead>\n",
       "    <tr style=\"text-align: right;\">\n",
       "      <th></th>\n",
       "      <th>PassengerId</th>\n",
       "      <th>Survived</th>\n",
       "      <th>Pclass</th>\n",
       "      <th>Age</th>\n",
       "      <th>Fare</th>\n",
       "      <th>Female</th>\n",
       "    </tr>\n",
       "  </thead>\n",
       "  <tbody>\n",
       "    <tr>\n",
       "      <th>0</th>\n",
       "      <td>1.0</td>\n",
       "      <td>0.0</td>\n",
       "      <td>3.0</td>\n",
       "      <td>22.0</td>\n",
       "      <td>7.2500</td>\n",
       "      <td>0</td>\n",
       "    </tr>\n",
       "    <tr>\n",
       "      <th>1</th>\n",
       "      <td>2.0</td>\n",
       "      <td>1.0</td>\n",
       "      <td>1.0</td>\n",
       "      <td>38.0</td>\n",
       "      <td>71.2833</td>\n",
       "      <td>1</td>\n",
       "    </tr>\n",
       "    <tr>\n",
       "      <th>2</th>\n",
       "      <td>3.0</td>\n",
       "      <td>1.0</td>\n",
       "      <td>3.0</td>\n",
       "      <td>26.0</td>\n",
       "      <td>7.9250</td>\n",
       "      <td>1</td>\n",
       "    </tr>\n",
       "    <tr>\n",
       "      <th>3</th>\n",
       "      <td>4.0</td>\n",
       "      <td>1.0</td>\n",
       "      <td>1.0</td>\n",
       "      <td>35.0</td>\n",
       "      <td>53.1000</td>\n",
       "      <td>1</td>\n",
       "    </tr>\n",
       "    <tr>\n",
       "      <th>4</th>\n",
       "      <td>5.0</td>\n",
       "      <td>0.0</td>\n",
       "      <td>3.0</td>\n",
       "      <td>35.0</td>\n",
       "      <td>8.0500</td>\n",
       "      <td>0</td>\n",
       "    </tr>\n",
       "  </tbody>\n",
       "</table>\n",
       "</div>"
      ],
      "text/plain": [
       "   PassengerId  Survived  Pclass   Age     Fare  Female\n",
       "0          1.0       0.0     3.0  22.0   7.2500       0\n",
       "1          2.0       1.0     1.0  38.0  71.2833       1\n",
       "2          3.0       1.0     3.0  26.0   7.9250       1\n",
       "3          4.0       1.0     1.0  35.0  53.1000       1\n",
       "4          5.0       0.0     3.0  35.0   8.0500       0"
      ]
     },
     "execution_count": 31,
     "metadata": {},
     "output_type": "execute_result"
    }
   ],
   "source": [
    "input.head()"
   ]
  },
  {
   "cell_type": "code",
   "execution_count": 32,
   "id": "68e14877",
   "metadata": {
    "execution": {
     "iopub.execute_input": "2022-04-03T08:54:23.122290Z",
     "iopub.status.busy": "2022-04-03T08:54:23.121699Z",
     "iopub.status.idle": "2022-04-03T08:54:23.126229Z",
     "shell.execute_reply": "2022-04-03T08:54:23.126778Z",
     "shell.execute_reply.started": "2022-04-03T08:53:20.253360Z"
    },
    "papermill": {
     "duration": 0.068691,
     "end_time": "2022-04-03T08:54:23.126939",
     "exception": false,
     "start_time": "2022-04-03T08:54:23.058248",
     "status": "completed"
    },
    "tags": []
   },
   "outputs": [
    {
     "data": {
      "text/plain": [
       "(1782, 6)"
      ]
     },
     "execution_count": 32,
     "metadata": {},
     "output_type": "execute_result"
    }
   ],
   "source": [
    "input.shape"
   ]
  },
  {
   "cell_type": "code",
   "execution_count": 33,
   "id": "4f0c5402",
   "metadata": {
    "execution": {
     "iopub.execute_input": "2022-04-03T08:54:23.247127Z",
     "iopub.status.busy": "2022-04-03T08:54:23.246543Z",
     "iopub.status.idle": "2022-04-03T08:54:23.253384Z",
     "shell.execute_reply": "2022-04-03T08:54:23.252789Z",
     "shell.execute_reply.started": "2022-04-03T08:53:20.260997Z"
    },
    "papermill": {
     "duration": 0.067706,
     "end_time": "2022-04-03T08:54:23.253552",
     "exception": false,
     "start_time": "2022-04-03T08:54:23.185846",
     "status": "completed"
    },
    "tags": []
   },
   "outputs": [],
   "source": [
    "X1=input.drop('Survived',axis=1)\n",
    "target=input.Survived"
   ]
  },
  {
   "cell_type": "code",
   "execution_count": 34,
   "id": "3e52160d",
   "metadata": {
    "execution": {
     "iopub.execute_input": "2022-04-03T08:54:23.375141Z",
     "iopub.status.busy": "2022-04-03T08:54:23.374549Z",
     "iopub.status.idle": "2022-04-03T08:54:23.379853Z",
     "shell.execute_reply": "2022-04-03T08:54:23.380315Z",
     "shell.execute_reply.started": "2022-04-03T08:53:20.274416Z"
    },
    "papermill": {
     "duration": 0.069484,
     "end_time": "2022-04-03T08:54:23.380489",
     "exception": false,
     "start_time": "2022-04-03T08:54:23.311005",
     "status": "completed"
    },
    "tags": []
   },
   "outputs": [
    {
     "data": {
      "text/plain": [
       "PassengerId    473\n",
       "Pclass         473\n",
       "Age              0\n",
       "Fare           474\n",
       "Female           0\n",
       "dtype: int64"
      ]
     },
     "execution_count": 34,
     "metadata": {},
     "output_type": "execute_result"
    }
   ],
   "source": [
    "X1.isna().sum()"
   ]
  },
  {
   "cell_type": "code",
   "execution_count": 35,
   "id": "283c745a",
   "metadata": {
    "execution": {
     "iopub.execute_input": "2022-04-03T08:54:23.504260Z",
     "iopub.status.busy": "2022-04-03T08:54:23.498378Z",
     "iopub.status.idle": "2022-04-03T08:54:23.507164Z",
     "shell.execute_reply": "2022-04-03T08:54:23.506651Z",
     "shell.execute_reply.started": "2022-04-03T08:53:20.290169Z"
    },
    "papermill": {
     "duration": 0.069235,
     "end_time": "2022-04-03T08:54:23.507310",
     "exception": false,
     "start_time": "2022-04-03T08:54:23.438075",
     "status": "completed"
    },
    "tags": []
   },
   "outputs": [],
   "source": [
    "X1.PassengerId=X1.PassengerId.fillna(X1.PassengerId.mean())\n",
    "X1.Pclass=X1.Pclass.fillna(X1.Pclass.mean())\n",
    "X1.Fare=X1.Fare.fillna(X1.Fare.mean())"
   ]
  },
  {
   "cell_type": "code",
   "execution_count": 36,
   "id": "92cafc2f",
   "metadata": {
    "execution": {
     "iopub.execute_input": "2022-04-03T08:54:23.631018Z",
     "iopub.status.busy": "2022-04-03T08:54:23.630306Z",
     "iopub.status.idle": "2022-04-03T08:54:23.633034Z",
     "shell.execute_reply": "2022-04-03T08:54:23.633448Z",
     "shell.execute_reply.started": "2022-04-03T08:53:20.306096Z"
    },
    "papermill": {
     "duration": 0.068141,
     "end_time": "2022-04-03T08:54:23.633640",
     "exception": false,
     "start_time": "2022-04-03T08:54:23.565499",
     "status": "completed"
    },
    "tags": []
   },
   "outputs": [
    {
     "data": {
      "text/plain": [
       "PassengerId    0\n",
       "Pclass         0\n",
       "Age            0\n",
       "Fare           0\n",
       "Female         0\n",
       "dtype: int64"
      ]
     },
     "execution_count": 36,
     "metadata": {},
     "output_type": "execute_result"
    }
   ],
   "source": [
    "X1.isna().sum()"
   ]
  },
  {
   "cell_type": "code",
   "execution_count": 37,
   "id": "b38a902e",
   "metadata": {
    "execution": {
     "iopub.execute_input": "2022-04-03T08:54:23.752697Z",
     "iopub.status.busy": "2022-04-03T08:54:23.752088Z",
     "iopub.status.idle": "2022-04-03T08:54:23.755883Z",
     "shell.execute_reply": "2022-04-03T08:54:23.756330Z",
     "shell.execute_reply.started": "2022-04-03T08:53:20.319712Z"
    },
    "papermill": {
     "duration": 0.065236,
     "end_time": "2022-04-03T08:54:23.756527",
     "exception": false,
     "start_time": "2022-04-03T08:54:23.691291",
     "status": "completed"
    },
    "tags": []
   },
   "outputs": [],
   "source": [
    "target=target.fillna(target.mean())"
   ]
  },
  {
   "cell_type": "code",
   "execution_count": 38,
   "id": "174f0201",
   "metadata": {
    "execution": {
     "iopub.execute_input": "2022-04-03T08:54:23.880492Z",
     "iopub.status.busy": "2022-04-03T08:54:23.876726Z",
     "iopub.status.idle": "2022-04-03T08:54:23.883104Z",
     "shell.execute_reply": "2022-04-03T08:54:23.883569Z",
     "shell.execute_reply.started": "2022-04-03T08:53:20.330376Z"
    },
    "papermill": {
     "duration": 0.068141,
     "end_time": "2022-04-03T08:54:23.883747",
     "exception": false,
     "start_time": "2022-04-03T08:54:23.815606",
     "status": "completed"
    },
    "tags": []
   },
   "outputs": [
    {
     "data": {
      "text/plain": [
       "0"
      ]
     },
     "execution_count": 38,
     "metadata": {},
     "output_type": "execute_result"
    }
   ],
   "source": [
    "target.isna().sum()"
   ]
  },
  {
   "cell_type": "code",
   "execution_count": 39,
   "id": "1f9aa425",
   "metadata": {
    "execution": {
     "iopub.execute_input": "2022-04-03T08:54:24.006910Z",
     "iopub.status.busy": "2022-04-03T08:54:24.006212Z",
     "iopub.status.idle": "2022-04-03T08:54:24.010978Z",
     "shell.execute_reply": "2022-04-03T08:54:24.011430Z",
     "shell.execute_reply.started": "2022-04-03T08:53:20.345931Z"
    },
    "papermill": {
     "duration": 0.067574,
     "end_time": "2022-04-03T08:54:24.011618",
     "exception": false,
     "start_time": "2022-04-03T08:54:23.944044",
     "status": "completed"
    },
    "tags": []
   },
   "outputs": [
    {
     "data": {
      "text/plain": [
       "dtype('float64')"
      ]
     },
     "execution_count": 39,
     "metadata": {},
     "output_type": "execute_result"
    }
   ],
   "source": [
    "target.dtype"
   ]
  },
  {
   "cell_type": "code",
   "execution_count": 40,
   "id": "7a1d45c7",
   "metadata": {
    "execution": {
     "iopub.execute_input": "2022-04-03T08:54:24.133510Z",
     "iopub.status.busy": "2022-04-03T08:54:24.132947Z",
     "iopub.status.idle": "2022-04-03T08:54:24.137099Z",
     "shell.execute_reply": "2022-04-03T08:54:24.137597Z",
     "shell.execute_reply.started": "2022-04-03T08:53:20.355744Z"
    },
    "papermill": {
     "duration": 0.06621,
     "end_time": "2022-04-03T08:54:24.137776",
     "exception": false,
     "start_time": "2022-04-03T08:54:24.071566",
     "status": "completed"
    },
    "tags": []
   },
   "outputs": [],
   "source": [
    "target = target.astype(float).astype(int)"
   ]
  },
  {
   "cell_type": "code",
   "execution_count": 41,
   "id": "74661f2e",
   "metadata": {
    "execution": {
     "iopub.execute_input": "2022-04-03T08:54:24.259766Z",
     "iopub.status.busy": "2022-04-03T08:54:24.259128Z",
     "iopub.status.idle": "2022-04-03T08:54:24.265136Z",
     "shell.execute_reply": "2022-04-03T08:54:24.264631Z",
     "shell.execute_reply.started": "2022-04-03T08:53:20.367178Z"
    },
    "papermill": {
     "duration": 0.068047,
     "end_time": "2022-04-03T08:54:24.265284",
     "exception": false,
     "start_time": "2022-04-03T08:54:24.197237",
     "status": "completed"
    },
    "tags": []
   },
   "outputs": [
    {
     "data": {
      "text/plain": [
       "0"
      ]
     },
     "execution_count": 41,
     "metadata": {},
     "output_type": "execute_result"
    }
   ],
   "source": [
    "target.isna().sum()"
   ]
  },
  {
   "cell_type": "code",
   "execution_count": 42,
   "id": "ca7d7045",
   "metadata": {
    "execution": {
     "iopub.execute_input": "2022-04-03T08:54:24.390273Z",
     "iopub.status.busy": "2022-04-03T08:54:24.389579Z",
     "iopub.status.idle": "2022-04-03T08:54:24.394230Z",
     "shell.execute_reply": "2022-04-03T08:54:24.394676Z",
     "shell.execute_reply.started": "2022-04-03T08:53:20.379041Z"
    },
    "papermill": {
     "duration": 0.069714,
     "end_time": "2022-04-03T08:54:24.394843",
     "exception": false,
     "start_time": "2022-04-03T08:54:24.325129",
     "status": "completed"
    },
    "tags": []
   },
   "outputs": [
    {
     "data": {
      "text/plain": [
       "PassengerId    0\n",
       "Pclass         0\n",
       "Age            0\n",
       "Fare           0\n",
       "Female         0\n",
       "dtype: int64"
      ]
     },
     "execution_count": 42,
     "metadata": {},
     "output_type": "execute_result"
    }
   ],
   "source": [
    "inputs=X1\n",
    "inputs.head(3)\n",
    "inputs.isna().sum()"
   ]
  },
  {
   "cell_type": "code",
   "execution_count": 43,
   "id": "96d01f6a",
   "metadata": {
    "execution": {
     "iopub.execute_input": "2022-04-03T08:54:24.521305Z",
     "iopub.status.busy": "2022-04-03T08:54:24.518988Z",
     "iopub.status.idle": "2022-04-03T08:54:24.526498Z",
     "shell.execute_reply": "2022-04-03T08:54:24.525964Z",
     "shell.execute_reply.started": "2022-04-03T08:53:20.394210Z"
    },
    "papermill": {
     "duration": 0.069864,
     "end_time": "2022-04-03T08:54:24.526642",
     "exception": false,
     "start_time": "2022-04-03T08:54:24.456778",
     "status": "completed"
    },
    "tags": []
   },
   "outputs": [],
   "source": [
    "X_train, X_test, y_train, y_test = train_test_split(inputs,target,test_size=0.2,random_state=0)"
   ]
  },
  {
   "cell_type": "code",
   "execution_count": 44,
   "id": "d52e5ee6",
   "metadata": {
    "execution": {
     "iopub.execute_input": "2022-04-03T08:54:24.651011Z",
     "iopub.status.busy": "2022-04-03T08:54:24.650410Z",
     "iopub.status.idle": "2022-04-03T08:54:24.653148Z",
     "shell.execute_reply": "2022-04-03T08:54:24.652691Z",
     "shell.execute_reply.started": "2022-04-03T08:53:20.407257Z"
    },
    "papermill": {
     "duration": 0.066986,
     "end_time": "2022-04-03T08:54:24.653277",
     "exception": false,
     "start_time": "2022-04-03T08:54:24.586291",
     "status": "completed"
    },
    "tags": []
   },
   "outputs": [],
   "source": [
    "naive_model = GaussianNB(var_smoothing=2e-9)"
   ]
  },
  {
   "cell_type": "code",
   "execution_count": 45,
   "id": "3d061f04",
   "metadata": {
    "execution": {
     "iopub.execute_input": "2022-04-03T08:54:24.776269Z",
     "iopub.status.busy": "2022-04-03T08:54:24.775687Z",
     "iopub.status.idle": "2022-04-03T08:54:24.785336Z",
     "shell.execute_reply": "2022-04-03T08:54:24.785866Z",
     "shell.execute_reply.started": "2022-04-03T08:53:20.415007Z"
    },
    "papermill": {
     "duration": 0.073426,
     "end_time": "2022-04-03T08:54:24.786040",
     "exception": false,
     "start_time": "2022-04-03T08:54:24.712614",
     "status": "completed"
    },
    "tags": []
   },
   "outputs": [
    {
     "data": {
      "text/plain": [
       "GaussianNB(var_smoothing=2e-09)"
      ]
     },
     "execution_count": 45,
     "metadata": {},
     "output_type": "execute_result"
    }
   ],
   "source": [
    "naive_model.fit(X_train,y_train)"
   ]
  },
  {
   "cell_type": "code",
   "execution_count": 46,
   "id": "3e81d1aa",
   "metadata": {
    "execution": {
     "iopub.execute_input": "2022-04-03T08:54:24.909806Z",
     "iopub.status.busy": "2022-04-03T08:54:24.909108Z",
     "iopub.status.idle": "2022-04-03T08:54:24.918570Z",
     "shell.execute_reply": "2022-04-03T08:54:24.917955Z",
     "shell.execute_reply.started": "2022-04-03T08:53:20.434719Z"
    },
    "papermill": {
     "duration": 0.072763,
     "end_time": "2022-04-03T08:54:24.918717",
     "exception": false,
     "start_time": "2022-04-03T08:54:24.845954",
     "status": "completed"
    },
    "tags": []
   },
   "outputs": [
    {
     "data": {
      "text/plain": [
       "0.8123249299719888"
      ]
     },
     "execution_count": 46,
     "metadata": {},
     "output_type": "execute_result"
    }
   ],
   "source": [
    "naive_model.score(X_test,y_test)"
   ]
  },
  {
   "cell_type": "code",
   "execution_count": 47,
   "id": "abbe528e",
   "metadata": {
    "execution": {
     "iopub.execute_input": "2022-04-03T08:54:25.047372Z",
     "iopub.status.busy": "2022-04-03T08:54:25.046784Z",
     "iopub.status.idle": "2022-04-03T08:54:25.052274Z",
     "shell.execute_reply": "2022-04-03T08:54:25.052885Z",
     "shell.execute_reply.started": "2022-04-03T08:53:20.447499Z"
    },
    "papermill": {
     "duration": 0.071495,
     "end_time": "2022-04-03T08:54:25.053060",
     "exception": false,
     "start_time": "2022-04-03T08:54:24.981565",
     "status": "completed"
    },
    "tags": []
   },
   "outputs": [],
   "source": [
    "y_pred = naive_model.predict(X_test)"
   ]
  },
  {
   "cell_type": "code",
   "execution_count": 48,
   "id": "e433d394",
   "metadata": {
    "execution": {
     "iopub.execute_input": "2022-04-03T08:54:25.178949Z",
     "iopub.status.busy": "2022-04-03T08:54:25.178272Z",
     "iopub.status.idle": "2022-04-03T08:54:25.184497Z",
     "shell.execute_reply": "2022-04-03T08:54:25.183872Z",
     "shell.execute_reply.started": "2022-04-03T08:53:20.457781Z"
    },
    "papermill": {
     "duration": 0.069875,
     "end_time": "2022-04-03T08:54:25.184656",
     "exception": false,
     "start_time": "2022-04-03T08:54:25.114781",
     "status": "completed"
    },
    "tags": []
   },
   "outputs": [
    {
     "name": "stdout",
     "output_type": "stream",
     "text": [
      "0.8123249299719888\n"
     ]
    }
   ],
   "source": [
    "from sklearn.metrics import accuracy_score\n",
    "print(accuracy_score(y_test, y_pred))"
   ]
  },
  {
   "cell_type": "code",
   "execution_count": 49,
   "id": "c66e7d29",
   "metadata": {
    "execution": {
     "iopub.execute_input": "2022-04-03T08:54:25.311952Z",
     "iopub.status.busy": "2022-04-03T08:54:25.311247Z",
     "iopub.status.idle": "2022-04-03T08:54:25.317729Z",
     "shell.execute_reply": "2022-04-03T08:54:25.318264Z",
     "shell.execute_reply.started": "2022-04-03T08:53:20.471955Z"
    },
    "papermill": {
     "duration": 0.072454,
     "end_time": "2022-04-03T08:54:25.318472",
     "exception": false,
     "start_time": "2022-04-03T08:54:25.246018",
     "status": "completed"
    },
    "tags": []
   },
   "outputs": [
    {
     "data": {
      "text/plain": [
       "array([[267,  16],\n",
       "       [ 51,  23]])"
      ]
     },
     "execution_count": 49,
     "metadata": {},
     "output_type": "execute_result"
    }
   ],
   "source": [
    "from sklearn.metrics import confusion_matrix,ConfusionMatrixDisplay\n",
    "cm=(confusion_matrix(y_test, y_pred))\n",
    "cm"
   ]
  },
  {
   "cell_type": "code",
   "execution_count": 50,
   "id": "78aaedf3",
   "metadata": {
    "execution": {
     "iopub.execute_input": "2022-04-03T08:54:25.442728Z",
     "iopub.status.busy": "2022-04-03T08:54:25.442142Z",
     "iopub.status.idle": "2022-04-03T08:54:25.704648Z",
     "shell.execute_reply": "2022-04-03T08:54:25.703954Z",
     "shell.execute_reply.started": "2022-04-03T08:53:20.488460Z"
    },
    "papermill": {
     "duration": 0.32584,
     "end_time": "2022-04-03T08:54:25.704823",
     "exception": false,
     "start_time": "2022-04-03T08:54:25.378983",
     "status": "completed"
    },
    "tags": []
   },
   "outputs": [
    {
     "data": {
      "text/plain": [
       "<sklearn.metrics._plot.confusion_matrix.ConfusionMatrixDisplay at 0x7f0e4d5ac790>"
      ]
     },
     "execution_count": 50,
     "metadata": {},
     "output_type": "execute_result"
    },
    {
     "data": {
      "image/png": "[encoded data removed]",
      "text/plain": [
       "<Figure size 432x288 with 2 Axes>"
      ]
     },
     "metadata": {
      "needs_background": "light"
     },
     "output_type": "display_data"
    }
   ],
   "source": [
    "cm1=ConfusionMatrixDisplay(cm)\n",
    "cm1.plot()"
   ]
  },
  {
   "cell_type": "code",
   "execution_count": 51,
   "id": "7a2923b4",
   "metadata": {
    "execution": {
     "iopub.execute_input": "2022-04-03T08:54:25.835967Z",
     "iopub.status.busy": "2022-04-03T08:54:25.835234Z",
     "iopub.status.idle": "2022-04-03T08:54:25.922160Z",
     "shell.execute_reply": "2022-04-03T08:54:25.922630Z",
     "shell.execute_reply.started": "2022-04-03T08:53:20.773241Z"
    },
    "papermill": {
     "duration": 0.154642,
     "end_time": "2022-04-03T08:54:25.922833",
     "exception": false,
     "start_time": "2022-04-03T08:54:25.768191",
     "status": "completed"
    },
    "tags": []
   },
   "outputs": [],
   "source": [
    "from sklearn.linear_model import LogisticRegression"
   ]
  },
  {
   "cell_type": "code",
   "execution_count": 52,
   "id": "1b4152cc",
   "metadata": {
    "execution": {
     "iopub.execute_input": "2022-04-03T08:54:26.053837Z",
     "iopub.status.busy": "2022-04-03T08:54:26.053209Z",
     "iopub.status.idle": "2022-04-03T08:54:26.056415Z",
     "shell.execute_reply": "2022-04-03T08:54:26.056876Z",
     "shell.execute_reply.started": "2022-04-03T08:53:20.861942Z"
    },
    "papermill": {
     "duration": 0.069833,
     "end_time": "2022-04-03T08:54:26.057044",
     "exception": false,
     "start_time": "2022-04-03T08:54:25.987211",
     "status": "completed"
    },
    "tags": []
   },
   "outputs": [],
   "source": [
    "logic_model=LogisticRegression(penalty='l2',C=3)"
   ]
  },
  {
   "cell_type": "code",
   "execution_count": 53,
   "id": "ebd23554",
   "metadata": {
    "execution": {
     "iopub.execute_input": "2022-04-03T08:54:26.187040Z",
     "iopub.status.busy": "2022-04-03T08:54:26.186386Z",
     "iopub.status.idle": "2022-04-03T08:54:26.215777Z",
     "shell.execute_reply": "2022-04-03T08:54:26.216257Z",
     "shell.execute_reply.started": "2022-04-03T08:53:20.867967Z"
    },
    "papermill": {
     "duration": 0.096875,
     "end_time": "2022-04-03T08:54:26.216436",
     "exception": false,
     "start_time": "2022-04-03T08:54:26.119561",
     "status": "completed"
    },
    "tags": []
   },
   "outputs": [
    {
     "data": {
      "text/plain": [
       "LogisticRegression(C=3)"
      ]
     },
     "execution_count": 53,
     "metadata": {},
     "output_type": "execute_result"
    }
   ],
   "source": [
    "logic_model.fit(X_train,y_train)"
   ]
  },
  {
   "cell_type": "code",
   "execution_count": 54,
   "id": "a8389360",
   "metadata": {
    "execution": {
     "iopub.execute_input": "2022-04-03T08:54:26.345986Z",
     "iopub.status.busy": "2022-04-03T08:54:26.345337Z",
     "iopub.status.idle": "2022-04-03T08:54:26.352373Z",
     "shell.execute_reply": "2022-04-03T08:54:26.352852Z",
     "shell.execute_reply.started": "2022-04-03T08:53:20.915912Z"
    },
    "papermill": {
     "duration": 0.071743,
     "end_time": "2022-04-03T08:54:26.353024",
     "exception": false,
     "start_time": "2022-04-03T08:54:26.281281",
     "status": "completed"
    },
    "tags": []
   },
   "outputs": [
    {
     "data": {
      "text/plain": [
       "0.8851540616246498"
      ]
     },
     "execution_count": 54,
     "metadata": {},
     "output_type": "execute_result"
    }
   ],
   "source": [
    "logic_model.score(X_test,y_test)"
   ]
  },
  {
   "cell_type": "code",
   "execution_count": 55,
   "id": "6b4c5351",
   "metadata": {
    "execution": {
     "iopub.execute_input": "2022-04-03T08:54:26.483545Z",
     "iopub.status.busy": "2022-04-03T08:54:26.482882Z",
     "iopub.status.idle": "2022-04-03T08:54:26.639319Z",
     "shell.execute_reply": "2022-04-03T08:54:26.638746Z",
     "shell.execute_reply.started": "2022-04-03T08:53:20.928204Z"
    },
    "papermill": {
     "duration": 0.22375,
     "end_time": "2022-04-03T08:54:26.639475",
     "exception": false,
     "start_time": "2022-04-03T08:54:26.415725",
     "status": "completed"
    },
    "tags": []
   },
   "outputs": [],
   "source": [
    "from sklearn.ensemble import RandomForestClassifier"
   ]
  },
  {
   "cell_type": "code",
   "execution_count": 56,
   "id": "a49046b0",
   "metadata": {
    "execution": {
     "iopub.execute_input": "2022-04-03T08:54:26.767605Z",
     "iopub.status.busy": "2022-04-03T08:54:26.767005Z",
     "iopub.status.idle": "2022-04-03T08:54:26.770259Z",
     "shell.execute_reply": "2022-04-03T08:54:26.770756Z",
     "shell.execute_reply.started": "2022-04-03T08:53:21.080867Z"
    },
    "papermill": {
     "duration": 0.068192,
     "end_time": "2022-04-03T08:54:26.770935",
     "exception": false,
     "start_time": "2022-04-03T08:54:26.702743",
     "status": "completed"
    },
    "tags": []
   },
   "outputs": [],
   "source": [
    "random_model=RandomForestClassifier(n_estimators=500)"
   ]
  },
  {
   "cell_type": "code",
   "execution_count": 57,
   "id": "b84ed1fa",
   "metadata": {
    "execution": {
     "iopub.execute_input": "2022-04-03T08:54:26.903171Z",
     "iopub.status.busy": "2022-04-03T08:54:26.900336Z",
     "iopub.status.idle": "2022-04-03T08:54:27.894927Z",
     "shell.execute_reply": "2022-04-03T08:54:27.894391Z",
     "shell.execute_reply.started": "2022-04-03T08:53:21.087731Z"
    },
    "papermill": {
     "duration": 1.060155,
     "end_time": "2022-04-03T08:54:27.895066",
     "exception": false,
     "start_time": "2022-04-03T08:54:26.834911",
     "status": "completed"
    },
    "tags": []
   },
   "outputs": [
    {
     "data": {
      "text/plain": [
       "RandomForestClassifier(n_estimators=500)"
      ]
     },
     "execution_count": 57,
     "metadata": {},
     "output_type": "execute_result"
    }
   ],
   "source": [
    "random_model.fit(X_train,y_train)"
   ]
  },
  {
   "cell_type": "code",
   "execution_count": 58,
   "id": "2211906e",
   "metadata": {
    "execution": {
     "iopub.execute_input": "2022-04-03T08:54:28.028832Z",
     "iopub.status.busy": "2022-04-03T08:54:28.025679Z",
     "iopub.status.idle": "2022-04-03T08:54:28.107862Z",
     "shell.execute_reply": "2022-04-03T08:54:28.108323Z",
     "shell.execute_reply.started": "2022-04-03T08:53:22.391884Z"
    },
    "papermill": {
     "duration": 0.149093,
     "end_time": "2022-04-03T08:54:28.108514",
     "exception": false,
     "start_time": "2022-04-03T08:54:27.959421",
     "status": "completed"
    },
    "tags": []
   },
   "outputs": [
    {
     "data": {
      "text/plain": [
       "0.907563025210084"
      ]
     },
     "execution_count": 58,
     "metadata": {},
     "output_type": "execute_result"
    }
   ],
   "source": [
    "random_model.score(X_test,y_test)"
   ]
  },
  {
   "cell_type": "code",
   "execution_count": 59,
   "id": "dd0161c0",
   "metadata": {
    "execution": {
     "iopub.execute_input": "2022-04-03T08:54:28.240685Z",
     "iopub.status.busy": "2022-04-03T08:54:28.239707Z",
     "iopub.status.idle": "2022-04-03T08:54:28.320020Z",
     "shell.execute_reply": "2022-04-03T08:54:28.320492Z",
     "shell.execute_reply.started": "2022-04-03T08:53:22.486006Z"
    },
    "papermill": {
     "duration": 0.14748,
     "end_time": "2022-04-03T08:54:28.320683",
     "exception": false,
     "start_time": "2022-04-03T08:54:28.173203",
     "status": "completed"
    },
    "tags": []
   },
   "outputs": [],
   "source": [
    "y_pred= random_model.predict(X_test)"
   ]
  },
  {
   "cell_type": "code",
   "execution_count": 60,
   "id": "4c0f431e",
   "metadata": {
    "execution": {
     "iopub.execute_input": "2022-04-03T08:54:28.452160Z",
     "iopub.status.busy": "2022-04-03T08:54:28.451573Z",
     "iopub.status.idle": "2022-04-03T08:54:28.457678Z",
     "shell.execute_reply": "2022-04-03T08:54:28.457226Z",
     "shell.execute_reply.started": "2022-04-03T08:53:22.582794Z"
    },
    "papermill": {
     "duration": 0.074074,
     "end_time": "2022-04-03T08:54:28.457815",
     "exception": false,
     "start_time": "2022-04-03T08:54:28.383741",
     "status": "completed"
    },
    "tags": []
   },
   "outputs": [
    {
     "data": {
      "text/plain": [
       "array([[271,  12],\n",
       "       [ 21,  53]])"
      ]
     },
     "execution_count": 60,
     "metadata": {},
     "output_type": "execute_result"
    }
   ],
   "source": [
    "cm=(confusion_matrix(y_test, y_pred))\n",
    "cm"
   ]
  },
  {
   "cell_type": "code",
   "execution_count": 61,
   "id": "7a47ad5b",
   "metadata": {
    "execution": {
     "iopub.execute_input": "2022-04-03T08:54:28.587737Z",
     "iopub.status.busy": "2022-04-03T08:54:28.587171Z",
     "iopub.status.idle": "2022-04-03T08:54:28.800746Z",
     "shell.execute_reply": "2022-04-03T08:54:28.800210Z",
     "shell.execute_reply.started": "2022-04-03T08:53:22.591802Z"
    },
    "papermill": {
     "duration": 0.279149,
     "end_time": "2022-04-03T08:54:28.800895",
     "exception": false,
     "start_time": "2022-04-03T08:54:28.521746",
     "status": "completed"
    },
    "tags": []
   },
   "outputs": [
    {
     "data": {
      "text/plain": [
       "<sklearn.metrics._plot.confusion_matrix.ConfusionMatrixDisplay at 0x7f0e4aa1d890>"
      ]
     },
     "execution_count": 61,
     "metadata": {},
     "output_type": "execute_result"
    },
    {
     "data": {
      "image/png": "[encoded data removed]",
      "text/plain": [
       "<Figure size 432x288 with 2 Axes>"
      ]
     },
     "metadata": {
      "needs_background": "light"
     },
     "output_type": "display_data"
    }
   ],
   "source": [
    "cm1=ConfusionMatrixDisplay(cm)\n",
    "cm1.plot()"
   ]
  },
  {
   "cell_type": "code",
   "execution_count": 62,
   "id": "88966d09",
   "metadata": {
    "execution": {
     "iopub.execute_input": "2022-04-03T08:54:28.936021Z",
     "iopub.status.busy": "2022-04-03T08:54:28.935365Z",
     "iopub.status.idle": "2022-04-03T08:54:29.069820Z",
     "shell.execute_reply": "2022-04-03T08:54:29.070314Z",
     "shell.execute_reply.started": "2022-04-03T08:53:22.835417Z"
    },
    "papermill": {
     "duration": 0.205637,
     "end_time": "2022-04-03T08:54:29.070515",
     "exception": false,
     "start_time": "2022-04-03T08:54:28.864878",
     "status": "completed"
    },
    "tags": []
   },
   "outputs": [],
   "source": [
    "y_pred_train = random_model.predict(X_train)"
   ]
  },
  {
   "cell_type": "code",
   "execution_count": 63,
   "id": "e2eaa9c1",
   "metadata": {
    "execution": {
     "iopub.execute_input": "2022-04-03T08:54:29.203793Z",
     "iopub.status.busy": "2022-04-03T08:54:29.203236Z",
     "iopub.status.idle": "2022-04-03T08:54:29.209791Z",
     "shell.execute_reply": "2022-04-03T08:54:29.210329Z",
     "shell.execute_reply.started": "2022-04-03T08:53:22.984604Z"
    },
    "papermill": {
     "duration": 0.074455,
     "end_time": "2022-04-03T08:54:29.210521",
     "exception": false,
     "start_time": "2022-04-03T08:54:29.136066",
     "status": "completed"
    },
    "tags": []
   },
   "outputs": [
    {
     "data": {
      "text/plain": [
       "PassengerId    0\n",
       "Pclass         0\n",
       "Age            0\n",
       "Fare           0\n",
       "Female         0\n",
       "dtype: int64"
      ]
     },
     "execution_count": 63,
     "metadata": {},
     "output_type": "execute_result"
    }
   ],
   "source": [
    "X_test.isna().sum()"
   ]
  },
  {
   "cell_type": "code",
   "execution_count": 64,
   "id": "10a4e4e8",
   "metadata": {
    "execution": {
     "iopub.execute_input": "2022-04-03T08:54:29.343387Z",
     "iopub.status.busy": "2022-04-03T08:54:29.342779Z",
     "iopub.status.idle": "2022-04-03T08:54:29.353745Z",
     "shell.execute_reply": "2022-04-03T08:54:29.354166Z",
     "shell.execute_reply.started": "2022-04-03T08:53:22.996130Z"
    },
    "papermill": {
     "duration": 0.079467,
     "end_time": "2022-04-03T08:54:29.354336",
     "exception": false,
     "start_time": "2022-04-03T08:54:29.274869",
     "status": "completed"
    },
    "tags": []
   },
   "outputs": [
    {
     "name": "stdout",
     "output_type": "stream",
     "text": [
      "Classification Report on Train Data \n",
      "\n",
      "               precision    recall  f1-score   support\n",
      "\n",
      "           0       1.00      1.00      1.00      1157\n",
      "           1       1.00      1.00      1.00       268\n",
      "\n",
      "    accuracy                           1.00      1425\n",
      "   macro avg       1.00      1.00      1.00      1425\n",
      "weighted avg       1.00      1.00      1.00      1425\n",
      "\n"
     ]
    }
   ],
   "source": [
    "# Classification Report on train data set\n",
    "from sklearn.metrics import classification_report\n",
    "print('Classification Report on Train Data','\\n\\n',classification_report(y_train,y_pred_train))"
   ]
  },
  {
   "cell_type": "code",
   "execution_count": 65,
   "id": "a02b1154",
   "metadata": {
    "execution": {
     "iopub.execute_input": "2022-04-03T08:54:29.488026Z",
     "iopub.status.busy": "2022-04-03T08:54:29.487096Z",
     "iopub.status.idle": "2022-04-03T08:54:29.569306Z",
     "shell.execute_reply": "2022-04-03T08:54:29.568773Z",
     "shell.execute_reply.started": "2022-04-03T08:53:23.013930Z"
    },
    "papermill": {
     "duration": 0.15014,
     "end_time": "2022-04-03T08:54:29.569479",
     "exception": false,
     "start_time": "2022-04-03T08:54:29.419339",
     "status": "completed"
    },
    "tags": []
   },
   "outputs": [
    {
     "data": {
      "text/plain": [
       "Survived    0\n",
       "dtype: int64"
      ]
     },
     "execution_count": 65,
     "metadata": {},
     "output_type": "execute_result"
    }
   ],
   "source": [
    "y_pred_test = pd.DataFrame(random_model.predict(X_test),columns=['Survived'])\n",
    "y_pred_test.isna().sum()\n"
   ]
  },
  {
   "cell_type": "code",
   "execution_count": 66,
   "id": "79d941d2",
   "metadata": {
    "execution": {
     "iopub.execute_input": "2022-04-03T08:54:29.709149Z",
     "iopub.status.busy": "2022-04-03T08:54:29.708539Z",
     "iopub.status.idle": "2022-04-03T08:54:29.710981Z",
     "shell.execute_reply": "2022-04-03T08:54:29.711513Z",
     "shell.execute_reply.started": "2022-04-03T08:53:41.229087Z"
    },
    "papermill": {
     "duration": 0.077021,
     "end_time": "2022-04-03T08:54:29.711673",
     "exception": false,
     "start_time": "2022-04-03T08:54:29.634652",
     "status": "completed"
    },
    "tags": []
   },
   "outputs": [],
   "source": [
    "submissions = pd.concat([inputs.PassengerId,y_pred_test],axis=1)"
   ]
  },
  {
   "cell_type": "code",
   "execution_count": 67,
   "id": "5ffa0d87",
   "metadata": {
    "execution": {
     "iopub.execute_input": "2022-04-03T08:54:29.845973Z",
     "iopub.status.busy": "2022-04-03T08:54:29.845382Z",
     "iopub.status.idle": "2022-04-03T08:54:29.850240Z",
     "shell.execute_reply": "2022-04-03T08:54:29.849769Z",
     "shell.execute_reply.started": "2022-04-03T08:53:42.497728Z"
    },
    "papermill": {
     "duration": 0.074411,
     "end_time": "2022-04-03T08:54:29.850368",
     "exception": false,
     "start_time": "2022-04-03T08:54:29.775957",
     "status": "completed"
    },
    "tags": []
   },
   "outputs": [],
   "source": [
    "submissions.Survived=submissions.Survived.fillna(submissions.Survived.mean())"
   ]
  },
  {
   "cell_type": "code",
   "execution_count": 68,
   "id": "ec18ab28",
   "metadata": {
    "execution": {
     "iopub.execute_input": "2022-04-03T08:54:29.987627Z",
     "iopub.status.busy": "2022-04-03T08:54:29.987009Z",
     "iopub.status.idle": "2022-04-03T08:54:29.990498Z",
     "shell.execute_reply": "2022-04-03T08:54:29.991011Z",
     "shell.execute_reply.started": "2022-04-03T08:53:43.388699Z"
    },
    "papermill": {
     "duration": 0.076169,
     "end_time": "2022-04-03T08:54:29.991169",
     "exception": false,
     "start_time": "2022-04-03T08:54:29.915000",
     "status": "completed"
    },
    "tags": []
   },
   "outputs": [
    {
     "data": {
      "text/plain": [
       "dtype('float64')"
      ]
     },
     "execution_count": 68,
     "metadata": {},
     "output_type": "execute_result"
    }
   ],
   "source": [
    "submissions.Survived.dtype"
   ]
  },
  {
   "cell_type": "code",
   "execution_count": 69,
   "id": "fcb8957f",
   "metadata": {
    "execution": {
     "iopub.execute_input": "2022-04-03T08:54:30.125168Z",
     "iopub.status.busy": "2022-04-03T08:54:30.124555Z",
     "iopub.status.idle": "2022-04-03T08:54:30.128391Z",
     "shell.execute_reply": "2022-04-03T08:54:30.128951Z",
     "shell.execute_reply.started": "2022-04-03T08:53:44.430416Z"
    },
    "papermill": {
     "duration": 0.07263,
     "end_time": "2022-04-03T08:54:30.129122",
     "exception": false,
     "start_time": "2022-04-03T08:54:30.056492",
     "status": "completed"
    },
    "tags": []
   },
   "outputs": [],
   "source": [
    "submissions[\"Survived\"] = submissions[\"Survived\"].astype(float).astype(int)"
   ]
  },
  {
   "cell_type": "code",
   "execution_count": 70,
   "id": "2cd1588f",
   "metadata": {
    "execution": {
     "iopub.execute_input": "2022-04-03T08:54:30.264791Z",
     "iopub.status.busy": "2022-04-03T08:54:30.262631Z",
     "iopub.status.idle": "2022-04-03T08:54:30.267725Z",
     "shell.execute_reply": "2022-04-03T08:54:30.268190Z",
     "shell.execute_reply.started": "2022-04-03T08:53:45.724928Z"
    },
    "papermill": {
     "duration": 0.073937,
     "end_time": "2022-04-03T08:54:30.268358",
     "exception": false,
     "start_time": "2022-04-03T08:54:30.194421",
     "status": "completed"
    },
    "tags": []
   },
   "outputs": [
    {
     "data": {
      "text/plain": [
       "array([0, 0, 0, ..., 0, 0, 0])"
      ]
     },
     "execution_count": 70,
     "metadata": {},
     "output_type": "execute_result"
    }
   ],
   "source": [
    "submissions.Survived.values"
   ]
  },
  {
   "cell_type": "code",
   "execution_count": 71,
   "id": "4811752a",
   "metadata": {
    "execution": {
     "iopub.execute_input": "2022-04-03T08:54:30.424949Z",
     "iopub.status.busy": "2022-04-03T08:54:30.424386Z",
     "iopub.status.idle": "2022-04-03T08:54:30.434429Z",
     "shell.execute_reply": "2022-04-03T08:54:30.433945Z",
     "shell.execute_reply.started": "2022-04-03T08:53:47.183117Z"
    },
    "papermill": {
     "duration": 0.092931,
     "end_time": "2022-04-03T08:54:30.434596",
     "exception": false,
     "start_time": "2022-04-03T08:54:30.341665",
     "status": "completed"
    },
    "tags": []
   },
   "outputs": [],
   "source": [
    "submissions.to_csv('submission.csv',index=False)"
   ]
  },
  {
   "cell_type": "code",
   "execution_count": null,
   "id": "aa45363e",
   "metadata": {
    "papermill": {
     "duration": 0.065455,
     "end_time": "2022-04-03T08:54:30.565737",
     "exception": false,
     "start_time": "2022-04-03T08:54:30.500282",
     "status": "completed"
    },
    "tags": []
   },
   "outputs": [],
   "source": []
  }
 ],
 "metadata": {
  "kernelspec": {
   "display_name": "Python 3",
   "language": "python",
   "name": "python3"
  },
  "language_info": {
   "codemirror_mode": {
    "name": "ipython",
    "version": 3
   },
   "file_extension": ".py",
   "mimetype": "text/x-python",
   "name": "python",
   "nbconvert_exporter": "python",
   "pygments_lexer": "ipython3",
   "version": "3.7.12"
  },
  "papermill": {
   "default_parameters": {},
   "duration": 22.279475,
   "end_time": "2022-04-03T08:54:31.341172",
   "environment_variables": {},
   "exception": null,
   "input_path": "__notebook__.ipynb",
   "output_path": "__notebook__.ipynb",
   "parameters": {},
   "start_time": "2022-04-03T08:54:09.061697",
   "version": "2.3.3"
  }
 },
 "nbformat": 4,
 "nbformat_minor": 5
}
